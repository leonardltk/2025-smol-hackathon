{
 "cells": [
  {
   "cell_type": "markdown",
   "id": "5e7d7782-73e7-428f-af2f-8ca0feb5d73d",
   "metadata": {},
   "source": [
    "# Imports"
   ]
  },
  {
   "cell_type": "code",
   "execution_count": 2,
   "id": "cbe8d2df-7581-4b9f-8f93-29fa10602f30",
   "metadata": {},
   "outputs": [],
   "source": [
    "import os\n",
    "from pprint import pprint\n",
    "\n",
    "import pandas as pd\n",
    "from groq import Groq\n",
    "from jigsawstack import JigsawStack\n",
    "from sqlalchemy import create_engine\n",
    "from e2b_code_interpreter import Sandbox\n",
    "from dotenv import load_dotenv, find_dotenv"
   ]
  },
  {
   "cell_type": "code",
   "execution_count": 3,
   "id": "c7a6396b-1ad4-49ec-9d62-66902683ca7d",
   "metadata": {},
   "outputs": [],
   "source": [
    "load_dotenv(find_dotenv())\n",
    "assert not os.getenv(\"JIGSAWSTACK_API\") is None\n",
    "assert not os.getenv(\"GROQ_API_KEY\") is None\n",
    "assert not os.getenv(\"E2B_API_KEY\") is None"
   ]
  },
  {
   "cell_type": "markdown",
   "id": "0c8bbb39-2cfd-499f-88c3-52644687f7d6",
   "metadata": {},
   "source": [
    "# Setup"
   ]
  },
  {
   "cell_type": "markdown",
   "id": "71ee90eb-d516-4136-816f-df718ba29175",
   "metadata": {},
   "source": [
    "## APIs"
   ]
  },
  {
   "cell_type": "code",
   "execution_count": 4,
   "id": "552fade0-0728-46d6-b520-9452864b228d",
   "metadata": {},
   "outputs": [],
   "source": [
    "jigsawstack = JigsawStack(\n",
    "    api_key = os.getenv(\"JIGSAWSTACK_API\")\n",
    ")"
   ]
  },
  {
   "cell_type": "code",
   "execution_count": 5,
   "id": "deb254a9-5124-4dd3-a51a-1062c5355355",
   "metadata": {},
   "outputs": [],
   "source": [
    "client = Groq(\n",
    "    api_key = os.getenv(\"GROQ_API_KEY\")\n",
    ")"
   ]
  },
  {
   "cell_type": "code",
   "execution_count": 6,
   "id": "076bd5c1-ecb7-4c41-9c65-8b694739e623",
   "metadata": {},
   "outputs": [
    {
     "name": "stdout",
     "output_type": "stream",
     "text": [
      "You are a Python data scientist. \n",
      "Use this template:\n",
      "\n",
      "\n",
      "```python\n",
      "def function_v1(insert arguments here):\n",
      "    # Insert code here\n",
      "```\n",
      "\n",
      "\n",
      "Do not use xlsxwriter\n",
      "Use matplotlib\n"
     ]
    }
   ],
   "source": [
    "python_template = \"\"\"\n",
    "```python\n",
    "def function_v1(insert arguments here):\n",
    "    # Insert code here\n",
    "```\n",
    "\"\"\"\n",
    "\n",
    "SYSTEM_PROMPT = f\"\"\"\n",
    "You are a Python data scientist. \n",
    "Use this template:\n",
    "\n",
    "{python_template}\n",
    "\n",
    "Do not use xlsxwriter\n",
    "Use matplotlib\n",
    "\"\"\".strip()\n",
    "\n",
    "print(SYSTEM_PROMPT)"
   ]
  },
  {
   "cell_type": "code",
   "execution_count": 6,
   "id": "8ebafdd2-ffa3-409d-82b9-64ad29f6add9",
   "metadata": {},
   "outputs": [],
   "source": [
    "# Create sandbox instance (by default, sandbox instances stay alive for 5 mins)\n",
    "sbx = Sandbox(\n",
    "    api_key = os.getenv('E2B_API_KEY'),\n",
    "    request_timeout=3_600,\n",
    ")"
   ]
  },
  {
   "cell_type": "markdown",
   "id": "25286c66-337d-4347-96d7-f6b867997219",
   "metadata": {},
   "source": [
    "## data"
   ]
  },
  {
   "cell_type": "code",
   "execution_count": 7,
   "id": "a57c92b0-2c3a-4f1b-bd36-e3ff628192d5",
   "metadata": {
    "scrolled": true
   },
   "outputs": [],
   "source": [
    "product_table_df = pd.read_csv('data/tables/Product Table.csv')\n",
    "invoice_table_df = pd.read_csv('data/tables/Invoice Table.csv')\n",
    "invoice_item_df = pd.read_csv('data/tables/Invoice Item.csv')\n",
    "outlet_df = pd.read_csv('data/tables/Outlet Table.csv')\n",
    "warehouse_df = pd.read_csv('data/tables/Warehouse Table.csv')\n",
    "address_df = pd.read_csv('data/tables/Address Table.csv')"
   ]
  },
  {
   "cell_type": "markdown",
   "id": "0b663d4a-3c19-412b-b93f-d46d08b56c82",
   "metadata": {},
   "source": [
    "## SQLlite"
   ]
  },
  {
   "cell_type": "code",
   "execution_count": 8,
   "id": "d7165029-b8ce-4c7d-b69a-d3cf3fdcdf95",
   "metadata": {},
   "outputs": [
    {
     "name": "stdout",
     "output_type": "stream",
     "text": [
      "removed 'my_database.db'\n"
     ]
    }
   ],
   "source": [
    "!rm -v my_database.db"
   ]
  },
  {
   "cell_type": "code",
   "execution_count": 9,
   "id": "51bdcf87-b6c7-4f19-8552-df7a8e26f6ba",
   "metadata": {},
   "outputs": [],
   "source": [
    "engine = create_engine('sqlite:///my_database.db')"
   ]
  },
  {
   "cell_type": "code",
   "execution_count": 10,
   "id": "ddd81b2c-330e-4d18-a5da-9135a4e77367",
   "metadata": {},
   "outputs": [
    {
     "data": {
      "text/plain": [
       "5"
      ]
     },
     "execution_count": 10,
     "metadata": {},
     "output_type": "execute_result"
    }
   ],
   "source": [
    "product_table_df.to_sql('datachat_product', engine, index=False, if_exists='replace')\n",
    "invoice_table_df.to_sql('datachat_invoice', engine, index=False, if_exists='replace')\n",
    "invoice_item_df.to_sql('datachat_invoiceitem', engine, index=False, if_exists='replace')\n",
    "outlet_df.to_sql('datachat_outlet', engine, index=False, if_exists='replace')\n",
    "warehouse_df.to_sql('datachat_warehouse', engine, index=False, if_exists='replace')\n",
    "address_df.to_sql('datachat_address', engine, index=False, if_exists='replace')"
   ]
  },
  {
   "cell_type": "code",
   "execution_count": 11,
   "id": "b5ee59e8-2350-4c45-bbd7-224695aefa8f",
   "metadata": {},
   "outputs": [],
   "source": [
    "product_table_schema_sql = pd.io.sql.get_schema(product_table_df, 'datachat_product', con=engine)\n",
    "invoice_table_schema_sql = pd.io.sql.get_schema(invoice_table_df, 'datachat_invoice', con=engine)\n",
    "invoice_item_schema_sql = pd.io.sql.get_schema(invoice_item_df, 'datachat_invoiceitem', con=engine)\n",
    "outlet_schema_sql = pd.io.sql.get_schema(outlet_df, 'datachat_outlet', con=engine)\n",
    "warehouse_schema_sql = pd.io.sql.get_schema(warehouse_df, 'datachat_warehouse', con=engine)\n",
    "address_schema_sql = pd.io.sql.get_schema(address_df, 'datachat_address', con=engine)"
   ]
  },
  {
   "cell_type": "code",
   "execution_count": 12,
   "id": "69223c1c-32ec-4e0f-9979-956fc01b264f",
   "metadata": {
    "scrolled": true
   },
   "outputs": [
    {
     "name": "stdout",
     "output_type": "stream",
     "text": [
      "\n",
      "CREATE TABLE datachat_product (\n",
      "\tid BIGINT, \n",
      "\tproduct_code TEXT, \n",
      "\tname TEXT\n",
      ")\n",
      "\n",
      "\n",
      "\n",
      "CREATE TABLE datachat_invoice (\n",
      "\tinvoice_id BIGINT, \n",
      "\ttimestamp TEXT, \n",
      "\tsubtotal FLOAT, \n",
      "\tgst FLOAT, \n",
      "\ttotal BIGINT, \n",
      "\torigin_address_id BIGINT, \n",
      "\torigin_address_type BIGINT\n",
      ")\n",
      "\n",
      "\n",
      "\n",
      "CREATE TABLE datachat_invoiceitem (\n",
      "\tid BIGINT, \n",
      "\tinvoice_id BIGINT, \n",
      "\tproduct_id BIGINT, \n",
      "\t\"quantity \" BIGINT, \n",
      "\tprice BIGINT, \n",
      "\tline_total BIGINT\n",
      ")\n",
      "\n",
      "\n",
      "\n",
      "CREATE TABLE datachat_outlet (\n",
      "\tid BIGINT, \n",
      "\tname TEXT, \n",
      "\taddress_id BIGINT\n",
      ")\n",
      "\n",
      "\n",
      "\n",
      "CREATE TABLE datachat_warehouse (\n",
      "\tid BIGINT, \n",
      "\tname TEXT, \n",
      "\taddress_id BIGINT\n",
      ")\n",
      "\n",
      "\n",
      "\n",
      "CREATE TABLE datachat_address (\n",
      "\tid BIGINT, \n",
      "\tstreet TEXT, \n",
      "\t\"postal code\" BIGINT\n",
      ")\n",
      "\n",
      "\n"
     ]
    }
   ],
   "source": [
    "schema_sql = '\\n'.join([\n",
    "    product_table_schema_sql,\n",
    "    invoice_table_schema_sql,\n",
    "    invoice_item_schema_sql,\n",
    "    outlet_schema_sql,\n",
    "    warehouse_schema_sql,\n",
    "address_schema_sql])\n",
    "print(schema_sql)"
   ]
  },
  {
   "cell_type": "code",
   "execution_count": 14,
   "id": "c5eeaa4c-7d46-4e2d-bca9-d9edfc550bda",
   "metadata": {},
   "outputs": [],
   "source": [
    "# To-Do add foreign keys to link them"
   ]
  },
  {
   "cell_type": "markdown",
   "id": "3ef7648b-ab51-45db-9b4d-1a961bfef4c8",
   "metadata": {},
   "source": [
    "# Unit Testings"
   ]
  },
  {
   "cell_type": "markdown",
   "id": "c8eb7fb4-e7ff-4786-ab55-694eb912157f",
   "metadata": {},
   "source": [
    "## Prompt 1"
   ]
  },
  {
   "cell_type": "code",
   "execution_count": 13,
   "id": "6758bef6-c010-438a-80b9-f6c7b419b7d4",
   "metadata": {},
   "outputs": [
    {
     "name": "stdout",
     "output_type": "stream",
     "text": [
      "I want to find out how D0001 and R0001 perform across outlets 1 to 3. Please output the results in a table where column headers are outlet names and row headers are product names\n"
     ]
    }
   ],
   "source": [
    "user_query = \"I want to find out how D0001 and R0001 perform across outlets 1 to 3. Please output the results in a table where column headers are outlet names and row headers are product names\"\n",
    "print(user_query)"
   ]
  },
  {
   "cell_type": "code",
   "execution_count": 14,
   "id": "b3049de7-85a1-461c-845f-998fecde9f9e",
   "metadata": {},
   "outputs": [
    {
     "name": "stdout",
     "output_type": "stream",
     "text": [
      "\n",
      "SELECT \n",
      "    p.product_code,\n",
      "    SUM(CASE WHEN o.name = \"Outlet 1\" THEN ii.line_total ELSE 0 END) AS \"Outlet 1\" ,\n",
      "    SUM(CASE WHEN o.name = \"Outlet 2\" THEN ii.line_total ELSE 0 END) AS \"Outlet 2\" ,\n",
      "    SUM(CASE WHEN o.name = \"Outlet 3\" THEN ii.line_total ELSE 0 END) AS \"Outlet 3\"\n",
      "FROM datachat_outlet o\n",
      "    JOIN datachat_invoice i ON i.origin_address_id = o.address_id\n",
      "        JOIN datachat_invoiceitem ii ON ii.invoice_id = i.invoice_id\n",
      "            JOIN datachat_product p ON p.id = ii.product_id\n",
      "WHERE p.product_code IN ('D0001', 'R0001')\n",
      "GROUP BY p.product_code;\n",
      "\n"
     ]
    }
   ],
   "source": [
    "expected_response = \"\"\"\n",
    "SELECT \n",
    "    p.product_code,\n",
    "    SUM(CASE WHEN o.name = \"Outlet 1\" THEN ii.line_total ELSE 0 END) AS \"Outlet 1\" ,\n",
    "    SUM(CASE WHEN o.name = \"Outlet 2\" THEN ii.line_total ELSE 0 END) AS \"Outlet 2\" ,\n",
    "    SUM(CASE WHEN o.name = \"Outlet 3\" THEN ii.line_total ELSE 0 END) AS \"Outlet 3\"\n",
    "FROM datachat_outlet o\n",
    "    JOIN datachat_invoice i ON i.origin_address_id = o.address_id\n",
    "        JOIN datachat_invoiceitem ii ON ii.invoice_id = i.invoice_id\n",
    "            JOIN datachat_product p ON p.id = ii.product_id\n",
    "WHERE p.product_code IN ('D0001', 'R0001')\n",
    "GROUP BY p.product_code;\n",
    "\"\"\"\n",
    "print(expected_response)"
   ]
  },
  {
   "cell_type": "code",
   "execution_count": 15,
   "id": "fdd55385-611a-4555-a7fb-b23f67cc9429",
   "metadata": {},
   "outputs": [
    {
     "data": {
      "text/html": [
       "<div>\n",
       "<style scoped>\n",
       "    .dataframe tbody tr th:only-of-type {\n",
       "        vertical-align: middle;\n",
       "    }\n",
       "\n",
       "    .dataframe tbody tr th {\n",
       "        vertical-align: top;\n",
       "    }\n",
       "\n",
       "    .dataframe thead th {\n",
       "        text-align: right;\n",
       "    }\n",
       "</style>\n",
       "<table border=\"1\" class=\"dataframe\">\n",
       "  <thead>\n",
       "    <tr style=\"text-align: right;\">\n",
       "      <th></th>\n",
       "      <th>product_code</th>\n",
       "      <th>Outlet 1</th>\n",
       "      <th>Outlet 2</th>\n",
       "      <th>Outlet 3</th>\n",
       "    </tr>\n",
       "  </thead>\n",
       "  <tbody>\n",
       "    <tr>\n",
       "      <th>0</th>\n",
       "      <td>D0001</td>\n",
       "      <td>200</td>\n",
       "      <td>400</td>\n",
       "      <td>1200</td>\n",
       "    </tr>\n",
       "    <tr>\n",
       "      <th>1</th>\n",
       "      <td>R0001</td>\n",
       "      <td>200</td>\n",
       "      <td>1000</td>\n",
       "      <td>600</td>\n",
       "    </tr>\n",
       "  </tbody>\n",
       "</table>\n",
       "</div>"
      ],
      "text/plain": [
       "  product_code  Outlet 1  Outlet 2  Outlet 3\n",
       "0        D0001       200       400      1200\n",
       "1        R0001       200      1000       600"
      ]
     },
     "execution_count": 15,
     "metadata": {},
     "output_type": "execute_result"
    }
   ],
   "source": [
    "result_df = pd.read_sql_query(expected_response, engine)\n",
    "result_df"
   ]
  },
  {
   "cell_type": "raw",
   "id": "fcb2c6d5-06e7-471e-9ce5-ecd051fa8e99",
   "metadata": {},
   "source": [
    "        Outlet 1\tOutlet 2\tOutlet 3\n",
    "D0001\t     200\t     400\t    1200\n",
    "R0001\t     200\t    1000\t     600"
   ]
  },
  {
   "cell_type": "markdown",
   "id": "f3b28b9d-5a1c-4142-9ca2-7da8d584b5d3",
   "metadata": {
    "jp-MarkdownHeadingCollapsed": true
   },
   "source": [
    "### 0 shot"
   ]
  },
  {
   "cell_type": "code",
   "execution_count": 16,
   "id": "65d3e7e0-3e90-40ca-923b-a93f2c1b6b04",
   "metadata": {},
   "outputs": [
    {
     "name": "stdout",
     "output_type": "stream",
     "text": [
      "I want to find out how D0001 and R0001 perform across outlets 1 to 3. Please output the results in a table where column headers are outlet names and row headers are product names\n"
     ]
    }
   ],
   "source": [
    "print(user_query)"
   ]
  },
  {
   "cell_type": "code",
   "execution_count": 17,
   "id": "9a6a674e-ae89-43e3-8183-2c55257ed041",
   "metadata": {},
   "outputs": [],
   "source": [
    "params = {\n",
    "    \"prompt\": user_query,\n",
    "    \"sql_schema\": schema_sql,\n",
    "    'database': 'sqlite',\n",
    "}\n",
    "result = jigsawstack.text_to_sql(params)"
   ]
  },
  {
   "cell_type": "code",
   "execution_count": 18,
   "id": "9ab9a7a2-18c2-42af-a102-cc2271f02d81",
   "metadata": {},
   "outputs": [
    {
     "name": "stdout",
     "output_type": "stream",
     "text": [
      "SELECT dp.name AS product_name, do1.name AS outlet_1, do2.name AS outlet_2, do3.name AS outlet_3 FROM datachat_product dp LEFT JOIN datachat_invoiceitem dii ON dp.id = dii.product_id LEFT JOIN datachat_invoice di ON dii.invoice_id = di.invoice_id LEFT JOIN datachat_outlet do1 ON di.origin_address_id = do1.address_id AND do1.id = 1 LEFT JOIN datachat_outlet do2 ON di.origin_address_id = do2.address_id AND do2.id = 2 LEFT JOIN datachat_outlet do3 ON di.origin_address_id = do3.address_id AND do3.id = 3 WHERE dp.product_code IN ('D0001', 'R0001') GROUP BY dp.name, do1.name, do2.name, do3.name\n"
     ]
    }
   ],
   "source": [
    "sql_query = result['sql']\n",
    "print(sql_query)"
   ]
  },
  {
   "cell_type": "code",
   "execution_count": 19,
   "id": "e0ebb064-ad09-4f80-ad1c-e4712f7b7da2",
   "metadata": {
    "scrolled": true
   },
   "outputs": [
    {
     "data": {
      "text/html": [
       "<div>\n",
       "<style scoped>\n",
       "    .dataframe tbody tr th:only-of-type {\n",
       "        vertical-align: middle;\n",
       "    }\n",
       "\n",
       "    .dataframe tbody tr th {\n",
       "        vertical-align: top;\n",
       "    }\n",
       "\n",
       "    .dataframe thead th {\n",
       "        text-align: right;\n",
       "    }\n",
       "</style>\n",
       "<table border=\"1\" class=\"dataframe\">\n",
       "  <thead>\n",
       "    <tr style=\"text-align: right;\">\n",
       "      <th></th>\n",
       "      <th>product_name</th>\n",
       "      <th>outlet_1</th>\n",
       "      <th>outlet_2</th>\n",
       "      <th>outlet_3</th>\n",
       "    </tr>\n",
       "  </thead>\n",
       "  <tbody>\n",
       "    <tr>\n",
       "      <th>0</th>\n",
       "      <td>Helicopter Drone</td>\n",
       "      <td>None</td>\n",
       "      <td>None</td>\n",
       "      <td>None</td>\n",
       "    </tr>\n",
       "    <tr>\n",
       "      <th>1</th>\n",
       "      <td>Helicopter Drone</td>\n",
       "      <td>None</td>\n",
       "      <td>None</td>\n",
       "      <td>Outlet 3</td>\n",
       "    </tr>\n",
       "    <tr>\n",
       "      <th>2</th>\n",
       "      <td>Helicopter Drone</td>\n",
       "      <td>None</td>\n",
       "      <td>Outlet 2</td>\n",
       "      <td>None</td>\n",
       "    </tr>\n",
       "    <tr>\n",
       "      <th>3</th>\n",
       "      <td>Helicopter Drone</td>\n",
       "      <td>Outlet 1</td>\n",
       "      <td>None</td>\n",
       "      <td>None</td>\n",
       "    </tr>\n",
       "    <tr>\n",
       "      <th>4</th>\n",
       "      <td>Robot Dolly</td>\n",
       "      <td>None</td>\n",
       "      <td>None</td>\n",
       "      <td>None</td>\n",
       "    </tr>\n",
       "    <tr>\n",
       "      <th>5</th>\n",
       "      <td>Robot Dolly</td>\n",
       "      <td>None</td>\n",
       "      <td>None</td>\n",
       "      <td>Outlet 3</td>\n",
       "    </tr>\n",
       "    <tr>\n",
       "      <th>6</th>\n",
       "      <td>Robot Dolly</td>\n",
       "      <td>None</td>\n",
       "      <td>Outlet 2</td>\n",
       "      <td>None</td>\n",
       "    </tr>\n",
       "    <tr>\n",
       "      <th>7</th>\n",
       "      <td>Robot Dolly</td>\n",
       "      <td>Outlet 1</td>\n",
       "      <td>None</td>\n",
       "      <td>None</td>\n",
       "    </tr>\n",
       "  </tbody>\n",
       "</table>\n",
       "</div>"
      ],
      "text/plain": [
       "       product_name  outlet_1  outlet_2  outlet_3\n",
       "0  Helicopter Drone      None      None      None\n",
       "1  Helicopter Drone      None      None  Outlet 3\n",
       "2  Helicopter Drone      None  Outlet 2      None\n",
       "3  Helicopter Drone  Outlet 1      None      None\n",
       "4       Robot Dolly      None      None      None\n",
       "5       Robot Dolly      None      None  Outlet 3\n",
       "6       Robot Dolly      None  Outlet 2      None\n",
       "7       Robot Dolly  Outlet 1      None      None"
      ]
     },
     "execution_count": 19,
     "metadata": {},
     "output_type": "execute_result"
    }
   ],
   "source": [
    "result_df = pd.read_sql_query(sql_query, engine)\n",
    "result_df"
   ]
  },
  {
   "cell_type": "raw",
   "id": "e026251e-77be-4c8a-8757-e365a8e9f764",
   "metadata": {},
   "source": [
    "        Outlet 1\tOutlet 2\tOutlet 3\n",
    "D0001\t     200\t     400\t    1200\n",
    "R0001\t     200\t    1000\t     600"
   ]
  },
  {
   "cell_type": "markdown",
   "id": "bee49b96-fb54-41e3-a166-3501feea6e70",
   "metadata": {},
   "source": [
    "### Few shot"
   ]
  },
  {
   "cell_type": "code",
   "execution_count": 20,
   "id": "485e96f9-6eb4-4c47-ad31-b6c05e6069e7",
   "metadata": {},
   "outputs": [
    {
     "name": "stdout",
     "output_type": "stream",
     "text": [
      "I want to find out how D0001 and T0001 perform across outlets 1 to 2. Please output the results in a table where column headers are outlet names and row headers are product names\n"
     ]
    }
   ],
   "source": [
    "user_query_v1 = \"I want to find out how D0001 and T0001 perform across outlets 1 to 2. Please output the results in a table where column headers are outlet names and row headers are product names\"\n",
    "print(user_query_v1)"
   ]
  },
  {
   "cell_type": "code",
   "execution_count": 21,
   "id": "b9e5e7a4-19f7-4522-a193-37db15942580",
   "metadata": {},
   "outputs": [
    {
     "name": "stdout",
     "output_type": "stream",
     "text": [
      "\n",
      "SELECT \n",
      "    p.product_code,\n",
      "    SUM(CASE WHEN o.name = \"Outlet 1\" THEN ii.line_total ELSE 0 END) AS \"Outlet 1\" ,\n",
      "    SUM(CASE WHEN o.name = \"Outlet 2\" THEN ii.line_total ELSE 0 END) AS \"Outlet 2\"\n",
      "FROM datachat_outlet o\n",
      "    JOIN datachat_invoice i ON i.origin_address_id = o.address_id\n",
      "        JOIN datachat_invoiceitem ii ON ii.invoice_id = i.invoice_id\n",
      "            JOIN datachat_product p ON p.id = ii.product_id\n",
      "WHERE p.product_code IN ('D0001', 'T0001')\n",
      "GROUP BY p.product_code;\n",
      "\n"
     ]
    }
   ],
   "source": [
    "expected_response_v1 = \"\"\"\n",
    "SELECT \n",
    "    p.product_code,\n",
    "    SUM(CASE WHEN o.name = \"Outlet 1\" THEN ii.line_total ELSE 0 END) AS \"Outlet 1\" ,\n",
    "    SUM(CASE WHEN o.name = \"Outlet 2\" THEN ii.line_total ELSE 0 END) AS \"Outlet 2\"\n",
    "FROM datachat_outlet o\n",
    "    JOIN datachat_invoice i ON i.origin_address_id = o.address_id\n",
    "        JOIN datachat_invoiceitem ii ON ii.invoice_id = i.invoice_id\n",
    "            JOIN datachat_product p ON p.id = ii.product_id\n",
    "WHERE p.product_code IN ('D0001', 'T0001')\n",
    "GROUP BY p.product_code;\n",
    "\"\"\"\n",
    "print(expected_response_v1)"
   ]
  },
  {
   "cell_type": "code",
   "execution_count": 22,
   "id": "434357da-056b-44b6-8bda-4308ca80662b",
   "metadata": {},
   "outputs": [
    {
     "name": "stdout",
     "output_type": "stream",
     "text": [
      "I want to find out how D0001 and T0001 perform across outlets 1 to 2. Please output the results in a table where column headers are outlet names and row headers are product names\n",
      "\n",
      "SELECT \n",
      "    p.product_code,\n",
      "    SUM(CASE WHEN o.name = \"Outlet 1\" THEN ii.line_total ELSE 0 END) AS \"Outlet 1\" ,\n",
      "    SUM(CASE WHEN o.name = \"Outlet 2\" THEN ii.line_total ELSE 0 END) AS \"Outlet 2\"\n",
      "FROM datachat_outlet o\n",
      "    JOIN datachat_invoice i ON i.origin_address_id = o.address_id\n",
      "        JOIN datachat_invoiceitem ii ON ii.invoice_id = i.invoice_id\n",
      "            JOIN datachat_product p ON p.id = ii.product_id\n",
      "WHERE p.product_code IN ('D0001', 'T0001')\n",
      "GROUP BY p.product_code;\n",
      "\n",
      "I want to find out how D0001 and R0001 perform across outlets 1 to 3. Please output the results in a table where column headers are outlet names and row headers are product names\n"
     ]
    }
   ],
   "source": [
    "user_query_fewshot = '\\n'.join([\n",
    "    user_query_v1,\n",
    "    expected_response_v1,\n",
    "    user_query,\n",
    "])\n",
    "print(user_query_fewshot)"
   ]
  },
  {
   "cell_type": "code",
   "execution_count": 23,
   "id": "1e9ed7f3-9238-4d9f-a54a-11c55ed9b791",
   "metadata": {},
   "outputs": [],
   "source": [
    "params = {\n",
    "    \"prompt\": user_query_fewshot,\n",
    "    \"sql_schema\": schema_sql,\n",
    "    'database': 'sqlite',\n",
    "}\n",
    "result = jigsawstack.text_to_sql(params)"
   ]
  },
  {
   "cell_type": "code",
   "execution_count": 24,
   "id": "bc39a5cc-99ee-4fc3-9266-c12266d5f3fe",
   "metadata": {},
   "outputs": [
    {
     "name": "stdout",
     "output_type": "stream",
     "text": [
      "SELECT    p.product_code,   SUM(CASE WHEN o.name = \"Outlet 1\" THEN ii.line_total ELSE 0 END) AS \"Outlet 1\",   SUM(CASE WHEN o.name = \"Outlet 2\" THEN ii.line_total ELSE 0 END) AS \"Outlet 2\",   SUM(CASE WHEN o.name = \"Outlet 3\" THEN ii.line_total ELSE 0 END) AS \"Outlet 3\" FROM datachat_outlet o   JOIN datachat_invoice i ON i.origin_address_id = o.address_id       JOIN datachat_invoiceitem ii ON ii.invoice_id = i.invoice_id           JOIN datachat_product p ON p.id = ii.product_id WHERE p.product_code IN ('D0001', 'R0001') GROUP BY p.product_code;\n"
     ]
    }
   ],
   "source": [
    "sql_query = result['sql']\n",
    "print(sql_query)"
   ]
  },
  {
   "cell_type": "code",
   "execution_count": 25,
   "id": "31f8203d-995e-42d7-8576-9f89fa434880",
   "metadata": {},
   "outputs": [
    {
     "data": {
      "text/html": [
       "<div>\n",
       "<style scoped>\n",
       "    .dataframe tbody tr th:only-of-type {\n",
       "        vertical-align: middle;\n",
       "    }\n",
       "\n",
       "    .dataframe tbody tr th {\n",
       "        vertical-align: top;\n",
       "    }\n",
       "\n",
       "    .dataframe thead th {\n",
       "        text-align: right;\n",
       "    }\n",
       "</style>\n",
       "<table border=\"1\" class=\"dataframe\">\n",
       "  <thead>\n",
       "    <tr style=\"text-align: right;\">\n",
       "      <th></th>\n",
       "      <th>product_code</th>\n",
       "      <th>Outlet 1</th>\n",
       "      <th>Outlet 2</th>\n",
       "      <th>Outlet 3</th>\n",
       "    </tr>\n",
       "  </thead>\n",
       "  <tbody>\n",
       "    <tr>\n",
       "      <th>0</th>\n",
       "      <td>D0001</td>\n",
       "      <td>200</td>\n",
       "      <td>400</td>\n",
       "      <td>1200</td>\n",
       "    </tr>\n",
       "    <tr>\n",
       "      <th>1</th>\n",
       "      <td>R0001</td>\n",
       "      <td>200</td>\n",
       "      <td>1000</td>\n",
       "      <td>600</td>\n",
       "    </tr>\n",
       "  </tbody>\n",
       "</table>\n",
       "</div>"
      ],
      "text/plain": [
       "  product_code  Outlet 1  Outlet 2  Outlet 3\n",
       "0        D0001       200       400      1200\n",
       "1        R0001       200      1000       600"
      ]
     },
     "execution_count": 25,
     "metadata": {},
     "output_type": "execute_result"
    }
   ],
   "source": [
    "result_df = pd.read_sql_query(sql_query, engine)\n",
    "result_df"
   ]
  },
  {
   "cell_type": "raw",
   "id": "757cbfba-1bf9-4337-8ab6-fd679c08210e",
   "metadata": {},
   "source": [
    "        Outlet 1\tOutlet 2\tOutlet 3\n",
    "D0001\t     200\t     400\t    1200\n",
    "R0001\t     200\t    1000\t     600"
   ]
  },
  {
   "cell_type": "markdown",
   "id": "1dd57773-ac3f-4b78-b2c8-bee4415538c6",
   "metadata": {},
   "source": [
    "## Prompt 2"
   ]
  },
  {
   "cell_type": "code",
   "execution_count": 26,
   "id": "c7b7dabd-eb70-4131-9397-83132c806e2f",
   "metadata": {},
   "outputs": [],
   "source": [
    "user_query = \"I want to find out what percentage of my total sales come from warehouse sales\""
   ]
  },
  {
   "cell_type": "code",
   "execution_count": 27,
   "id": "ce6731a3-0677-43eb-9a52-f4a972ebe1f7",
   "metadata": {},
   "outputs": [
    {
     "name": "stdout",
     "output_type": "stream",
     "text": [
      "\n",
      "SELECT \n",
      "  (SUM(i.total) * 100.0 / (SELECT SUM(total) FROM datachat_invoice)) AS warehouse_sales_percentage\n",
      "FROM datachat_invoice i\n",
      "JOIN datachat_warehouse w \n",
      "    ON i.origin_address_id = w.address_id\n",
      "WHERE i.origin_address_type = 2;\n",
      "\n"
     ]
    }
   ],
   "source": [
    "expected_response = \"\"\"\n",
    "SELECT \n",
    "  (SUM(i.total) * 100.0 / (SELECT SUM(total) FROM datachat_invoice)) AS warehouse_sales_percentage\n",
    "FROM datachat_invoice i\n",
    "JOIN datachat_warehouse w \n",
    "    ON i.origin_address_id = w.address_id\n",
    "WHERE i.origin_address_type = 2;\n",
    "\"\"\"\n",
    "print(expected_response)"
   ]
  },
  {
   "cell_type": "code",
   "execution_count": 28,
   "id": "4cea8289-de0a-48e1-9334-3bb1ffa59112",
   "metadata": {},
   "outputs": [
    {
     "data": {
      "text/html": [
       "<div>\n",
       "<style scoped>\n",
       "    .dataframe tbody tr th:only-of-type {\n",
       "        vertical-align: middle;\n",
       "    }\n",
       "\n",
       "    .dataframe tbody tr th {\n",
       "        vertical-align: top;\n",
       "    }\n",
       "\n",
       "    .dataframe thead th {\n",
       "        text-align: right;\n",
       "    }\n",
       "</style>\n",
       "<table border=\"1\" class=\"dataframe\">\n",
       "  <thead>\n",
       "    <tr style=\"text-align: right;\">\n",
       "      <th></th>\n",
       "      <th>warehouse_sales_percentage</th>\n",
       "    </tr>\n",
       "  </thead>\n",
       "  <tbody>\n",
       "    <tr>\n",
       "      <th>0</th>\n",
       "      <td>40.47619</td>\n",
       "    </tr>\n",
       "  </tbody>\n",
       "</table>\n",
       "</div>"
      ],
      "text/plain": [
       "   warehouse_sales_percentage\n",
       "0                    40.47619"
      ]
     },
     "execution_count": 28,
     "metadata": {},
     "output_type": "execute_result"
    }
   ],
   "source": [
    "result_df = pd.read_sql_query(expected_response, engine)\n",
    "result_df"
   ]
  },
  {
   "cell_type": "markdown",
   "id": "0044b85e-3df0-4d33-a015-b588108d3ddd",
   "metadata": {},
   "source": [
    "### 0 shot"
   ]
  },
  {
   "cell_type": "code",
   "execution_count": 29,
   "id": "171a2cda-48fb-43ca-9db8-9c1de70be4de",
   "metadata": {},
   "outputs": [
    {
     "name": "stdout",
     "output_type": "stream",
     "text": [
      "I want to find out what percentage of my total sales come from warehouse sales\n"
     ]
    }
   ],
   "source": [
    "print(user_query)"
   ]
  },
  {
   "cell_type": "code",
   "execution_count": 30,
   "id": "322fc31f-01f5-4e87-b101-01f74090fcd0",
   "metadata": {},
   "outputs": [],
   "source": [
    "params = {\n",
    "    \"prompt\": user_query,\n",
    "    \"sql_schema\": schema_sql,\n",
    "    'database': 'sqlite',\n",
    "}\n",
    "result = jigsawstack.text_to_sql(params)"
   ]
  },
  {
   "cell_type": "code",
   "execution_count": 31,
   "id": "1062812d-4298-4605-85fe-162d343821e5",
   "metadata": {},
   "outputs": [
    {
     "name": "stdout",
     "output_type": "stream",
     "text": [
      "SELECT (SUM(CASE WHEN origin_address_type = 1 THEN total ELSE 0 END) * 100.0 / SUM(total)) AS warehouse_sales_percentage FROM datachat_invoice\n"
     ]
    }
   ],
   "source": [
    "sql_query = result['sql']\n",
    "print(sql_query)"
   ]
  },
  {
   "cell_type": "code",
   "execution_count": 32,
   "id": "03d7a5ef-484b-4f47-8ab6-2093f769cef1",
   "metadata": {},
   "outputs": [
    {
     "data": {
      "text/html": [
       "<div>\n",
       "<style scoped>\n",
       "    .dataframe tbody tr th:only-of-type {\n",
       "        vertical-align: middle;\n",
       "    }\n",
       "\n",
       "    .dataframe tbody tr th {\n",
       "        vertical-align: top;\n",
       "    }\n",
       "\n",
       "    .dataframe thead th {\n",
       "        text-align: right;\n",
       "    }\n",
       "</style>\n",
       "<table border=\"1\" class=\"dataframe\">\n",
       "  <thead>\n",
       "    <tr style=\"text-align: right;\">\n",
       "      <th></th>\n",
       "      <th>warehouse_sales_percentage</th>\n",
       "    </tr>\n",
       "  </thead>\n",
       "  <tbody>\n",
       "    <tr>\n",
       "      <th>0</th>\n",
       "      <td>59.52381</td>\n",
       "    </tr>\n",
       "  </tbody>\n",
       "</table>\n",
       "</div>"
      ],
      "text/plain": [
       "   warehouse_sales_percentage\n",
       "0                    59.52381"
      ]
     },
     "execution_count": 32,
     "metadata": {},
     "output_type": "execute_result"
    }
   ],
   "source": [
    "result_df = pd.read_sql_query(sql_query, engine)\n",
    "result_df"
   ]
  },
  {
   "cell_type": "raw",
   "id": "813e5c8c-2766-4654-88c9-228ab2102a5d",
   "metadata": {},
   "source": [
    "warehouse_sales_percentage\n",
    "0\t40.47619"
   ]
  },
  {
   "cell_type": "markdown",
   "id": "6c57aaa3-4231-4731-9eb1-e4d2d85f519a",
   "metadata": {},
   "source": [
    "### Few shot"
   ]
  },
  {
   "cell_type": "code",
   "execution_count": 33,
   "id": "fcaefbf2-38b9-4a98-bfe2-90bf2ea94536",
   "metadata": {},
   "outputs": [],
   "source": [
    "user_query_v2 = \"I want to find out what percentage of my total sales come from outlet sales\""
   ]
  },
  {
   "cell_type": "code",
   "execution_count": 34,
   "id": "78ef7b19-8fa5-4955-91fb-93fdcbed000f",
   "metadata": {},
   "outputs": [
    {
     "name": "stdout",
     "output_type": "stream",
     "text": [
      "\n",
      "SELECT \n",
      "  (SUM(i.total) * 100.0 / (SELECT SUM(total) FROM datachat_invoice)) AS outlet_sales_percentage\n",
      "FROM datachat_invoice i\n",
      "JOIN datachat_outlet w \n",
      "    ON i.origin_address_id = w.address_id\n",
      "WHERE i.origin_address_type = 1;\n",
      "\n"
     ]
    }
   ],
   "source": [
    "expected_response_v2 = \"\"\"\n",
    "SELECT \n",
    "  (SUM(i.total) * 100.0 / (SELECT SUM(total) FROM datachat_invoice)) AS outlet_sales_percentage\n",
    "FROM datachat_invoice i\n",
    "JOIN datachat_outlet w \n",
    "    ON i.origin_address_id = w.address_id\n",
    "WHERE i.origin_address_type = 1;\n",
    "\"\"\"\n",
    "print(expected_response_v2)"
   ]
  },
  {
   "cell_type": "code",
   "execution_count": 35,
   "id": "8c93a998-408b-4074-8e66-4159f995d1da",
   "metadata": {},
   "outputs": [
    {
     "data": {
      "text/html": [
       "<div>\n",
       "<style scoped>\n",
       "    .dataframe tbody tr th:only-of-type {\n",
       "        vertical-align: middle;\n",
       "    }\n",
       "\n",
       "    .dataframe tbody tr th {\n",
       "        vertical-align: top;\n",
       "    }\n",
       "\n",
       "    .dataframe thead th {\n",
       "        text-align: right;\n",
       "    }\n",
       "</style>\n",
       "<table border=\"1\" class=\"dataframe\">\n",
       "  <thead>\n",
       "    <tr style=\"text-align: right;\">\n",
       "      <th></th>\n",
       "      <th>outlet_sales_percentage</th>\n",
       "    </tr>\n",
       "  </thead>\n",
       "  <tbody>\n",
       "    <tr>\n",
       "      <th>0</th>\n",
       "      <td>59.52381</td>\n",
       "    </tr>\n",
       "  </tbody>\n",
       "</table>\n",
       "</div>"
      ],
      "text/plain": [
       "   outlet_sales_percentage\n",
       "0                 59.52381"
      ]
     },
     "execution_count": 35,
     "metadata": {},
     "output_type": "execute_result"
    }
   ],
   "source": [
    "result_df = pd.read_sql_query(expected_response_v2, engine)\n",
    "result_df"
   ]
  },
  {
   "cell_type": "code",
   "execution_count": 36,
   "id": "f70890ea-c7c7-4765-ada3-3df1c63f6ed4",
   "metadata": {},
   "outputs": [
    {
     "name": "stdout",
     "output_type": "stream",
     "text": [
      "I want to find out what percentage of my total sales come from outlet sales\n",
      "\n",
      "SELECT \n",
      "  (SUM(i.total) * 100.0 / (SELECT SUM(total) FROM datachat_invoice)) AS outlet_sales_percentage\n",
      "FROM datachat_invoice i\n",
      "JOIN datachat_outlet w \n",
      "    ON i.origin_address_id = w.address_id\n",
      "WHERE i.origin_address_type = 1;\n",
      "\n",
      "I want to find out what percentage of my total sales come from warehouse sales\n"
     ]
    }
   ],
   "source": [
    "user_query_fewshot = '\\n'.join([\n",
    "    user_query_v2,\n",
    "    expected_response_v2,\n",
    "    user_query,\n",
    "])\n",
    "print(user_query_fewshot)"
   ]
  },
  {
   "cell_type": "code",
   "execution_count": 37,
   "id": "d175ed97-23a9-424f-8872-86ee80ee330f",
   "metadata": {},
   "outputs": [],
   "source": [
    "params = {\n",
    "    \"prompt\": user_query_fewshot,\n",
    "    \"sql_schema\": schema_sql,\n",
    "    'database': 'sqlite',\n",
    "}\n",
    "result = jigsawstack.text_to_sql(params)"
   ]
  },
  {
   "cell_type": "code",
   "execution_count": 38,
   "id": "5704b27d-71ea-4d14-92f4-44a2af408efd",
   "metadata": {},
   "outputs": [
    {
     "name": "stdout",
     "output_type": "stream",
     "text": [
      "SELECT (SUM(i.total) * 100.0 / (SELECT SUM(total) FROM datachat_invoice)) AS warehouse_sales_percentage FROM datachat_invoice i JOIN datachat_warehouse w ON i.origin_address_id = w.address_id WHERE i.origin_address_type = 2;\n"
     ]
    }
   ],
   "source": [
    "sql_query = result['sql']\n",
    "print(sql_query)"
   ]
  },
  {
   "cell_type": "code",
   "execution_count": 39,
   "id": "f81c9120-dabf-4249-8f34-475b46365526",
   "metadata": {},
   "outputs": [
    {
     "data": {
      "text/html": [
       "<div>\n",
       "<style scoped>\n",
       "    .dataframe tbody tr th:only-of-type {\n",
       "        vertical-align: middle;\n",
       "    }\n",
       "\n",
       "    .dataframe tbody tr th {\n",
       "        vertical-align: top;\n",
       "    }\n",
       "\n",
       "    .dataframe thead th {\n",
       "        text-align: right;\n",
       "    }\n",
       "</style>\n",
       "<table border=\"1\" class=\"dataframe\">\n",
       "  <thead>\n",
       "    <tr style=\"text-align: right;\">\n",
       "      <th></th>\n",
       "      <th>warehouse_sales_percentage</th>\n",
       "    </tr>\n",
       "  </thead>\n",
       "  <tbody>\n",
       "    <tr>\n",
       "      <th>0</th>\n",
       "      <td>40.47619</td>\n",
       "    </tr>\n",
       "  </tbody>\n",
       "</table>\n",
       "</div>"
      ],
      "text/plain": [
       "   warehouse_sales_percentage\n",
       "0                    40.47619"
      ]
     },
     "execution_count": 39,
     "metadata": {},
     "output_type": "execute_result"
    }
   ],
   "source": [
    "result_df = pd.read_sql_query(sql_query, engine)\n",
    "result_df"
   ]
  },
  {
   "cell_type": "raw",
   "id": "cb25a0cb-afec-4912-97dd-db02b8219aac",
   "metadata": {},
   "source": [
    "warehouse_sales_percentage\n",
    "0\t40.47619"
   ]
  },
  {
   "cell_type": "markdown",
   "id": "c6ef8952-a4f2-47f7-b53a-8e0045894f6d",
   "metadata": {},
   "source": [
    "## Prompt 3"
   ]
  },
  {
   "cell_type": "code",
   "execution_count": 40,
   "id": "c78958bd-1301-4bc9-9f24-e07321c9151d",
   "metadata": {},
   "outputs": [],
   "source": [
    "user_query = \"Please track all invoices by location and create a bar chart in excel where x axis is outlet or warehouse name and y axis is sales amount\""
   ]
  },
  {
   "cell_type": "markdown",
   "id": "7c8c19c2-b8fa-41e2-87c9-8cbbf2bd292c",
   "metadata": {},
   "source": [
    "### Few shot"
   ]
  },
  {
   "cell_type": "code",
   "execution_count": 41,
   "id": "d4fd9b0b-ff39-4e4c-a299-fa741af9f0df",
   "metadata": {},
   "outputs": [
    {
     "name": "stdout",
     "output_type": "stream",
     "text": [
      "I want to find out how D0001 and T0001 perform across outlets 1 to 2. Please output the results in a table where column headers are outlet names and row headers are product names\n",
      "\n",
      "SELECT \n",
      "    p.product_code,\n",
      "    SUM(CASE WHEN o.name = \"Outlet 1\" THEN ii.line_total ELSE 0 END) AS \"Outlet 1\" ,\n",
      "    SUM(CASE WHEN o.name = \"Outlet 2\" THEN ii.line_total ELSE 0 END) AS \"Outlet 2\"\n",
      "FROM datachat_outlet o\n",
      "    JOIN datachat_invoice i ON i.origin_address_id = o.address_id\n",
      "        JOIN datachat_invoiceitem ii ON ii.invoice_id = i.invoice_id\n",
      "            JOIN datachat_product p ON p.id = ii.product_id\n",
      "WHERE p.product_code IN ('D0001', 'T0001')\n",
      "GROUP BY p.product_code;\n",
      "\n",
      "I want to find out what percentage of my total sales come from outlet sales\n",
      "\n",
      "SELECT \n",
      "  (SUM(i.total) * 100.0 / (SELECT SUM(total) FROM datachat_invoice)) AS outlet_sales_percentage\n",
      "FROM datachat_invoice i\n",
      "JOIN datachat_outlet w \n",
      "    ON i.origin_address_id = w.address_id\n",
      "WHERE i.origin_address_type = 1;\n",
      "\n",
      "Please track all invoices by location and create a bar chart in excel where x axis is outlet or warehouse name and y axis is sales amount\n"
     ]
    }
   ],
   "source": [
    "user_query_fewshot = '\\n'.join([\n",
    "    user_query_v1, expected_response_v1,\n",
    "    user_query_v2, expected_response_v2,\n",
    "    user_query,\n",
    "])\n",
    "print(user_query_fewshot)"
   ]
  },
  {
   "cell_type": "code",
   "execution_count": 42,
   "id": "1ce7d969-d658-4961-b93e-ec6e8221324d",
   "metadata": {},
   "outputs": [],
   "source": [
    "params = {\n",
    "    \"prompt\": user_query_fewshot,\n",
    "    \"sql_schema\": schema_sql,\n",
    "    'database': 'sqlite',\n",
    "}\n",
    "result = jigsawstack.text_to_sql(params)"
   ]
  },
  {
   "cell_type": "code",
   "execution_count": 43,
   "id": "235e866e-bab4-4664-9a1e-458eece2dc27",
   "metadata": {},
   "outputs": [
    {
     "name": "stdout",
     "output_type": "stream",
     "text": [
      "SELECT COALESCE(o.name, w.name) AS location_name, SUM(i.total) AS sales_amount FROM datachat_invoice i LEFT JOIN datachat_outlet o ON i.origin_address_id = o.address_id AND i.origin_address_type = 1 LEFT JOIN datachat_warehouse w ON i.origin_address_id = w.address_id AND i.origin_address_type = 2 GROUP BY location_name;\n"
     ]
    }
   ],
   "source": [
    "sql_query = result['sql']\n",
    "print(sql_query)"
   ]
  },
  {
   "cell_type": "code",
   "execution_count": 44,
   "id": "a7ec8f08-67e1-438e-820e-5ae7337d335e",
   "metadata": {},
   "outputs": [
    {
     "data": {
      "text/html": [
       "<div>\n",
       "<style scoped>\n",
       "    .dataframe tbody tr th:only-of-type {\n",
       "        vertical-align: middle;\n",
       "    }\n",
       "\n",
       "    .dataframe tbody tr th {\n",
       "        vertical-align: top;\n",
       "    }\n",
       "\n",
       "    .dataframe thead th {\n",
       "        text-align: right;\n",
       "    }\n",
       "</style>\n",
       "<table border=\"1\" class=\"dataframe\">\n",
       "  <thead>\n",
       "    <tr style=\"text-align: right;\">\n",
       "      <th></th>\n",
       "      <th>location_name</th>\n",
       "      <th>sales_amount</th>\n",
       "    </tr>\n",
       "  </thead>\n",
       "  <tbody>\n",
       "    <tr>\n",
       "      <th>0</th>\n",
       "      <td>Outlet 1</td>\n",
       "      <td>400</td>\n",
       "    </tr>\n",
       "    <tr>\n",
       "      <th>1</th>\n",
       "      <td>Outlet 2</td>\n",
       "      <td>1550</td>\n",
       "    </tr>\n",
       "    <tr>\n",
       "      <th>2</th>\n",
       "      <td>Outlet 3</td>\n",
       "      <td>1800</td>\n",
       "    </tr>\n",
       "    <tr>\n",
       "      <th>3</th>\n",
       "      <td>Warehouse 1</td>\n",
       "      <td>650</td>\n",
       "    </tr>\n",
       "    <tr>\n",
       "      <th>4</th>\n",
       "      <td>Warehouse 2</td>\n",
       "      <td>1900</td>\n",
       "    </tr>\n",
       "  </tbody>\n",
       "</table>\n",
       "</div>"
      ],
      "text/plain": [
       "  location_name  sales_amount\n",
       "0      Outlet 1           400\n",
       "1      Outlet 2          1550\n",
       "2      Outlet 3          1800\n",
       "3   Warehouse 1           650\n",
       "4   Warehouse 2          1900"
      ]
     },
     "execution_count": 44,
     "metadata": {},
     "output_type": "execute_result"
    }
   ],
   "source": [
    "result_df = pd.read_sql_query(sql_query, engine)\n",
    "result_df"
   ]
  },
  {
   "cell_type": "markdown",
   "id": "59c7dbfb-09e4-435e-9090-b43bf67bd9f3",
   "metadata": {},
   "source": [
    "### groq(qwen-2.5-coder-32b)"
   ]
  },
  {
   "cell_type": "code",
   "execution_count": 45,
   "id": "cff35606-609a-48a0-a988-a5d85d3988a3",
   "metadata": {},
   "outputs": [],
   "source": [
    "messages = [\n",
    "    {\"role\": \"system\", \"content\": SYSTEM_PROMPT},\n",
    "    {\"role\": \"user\", \"content\": (\n",
    "        f\"{result_df}\\n\"\n",
    "        \"Given the above results\\n\"\n",
    "        f\"{user_query}\"\n",
    "    )},\n",
    "]"
   ]
  },
  {
   "cell_type": "code",
   "execution_count": 46,
   "id": "77e7611e-5f32-4c0c-893a-b990ddf96f4a",
   "metadata": {},
   "outputs": [
    {
     "name": "stdout",
     "output_type": "stream",
     "text": [
      "  location_name  sales_amount\n",
      "0      Outlet 1           400\n",
      "1      Outlet 2          1550\n",
      "2      Outlet 3          1800\n",
      "3   Warehouse 1           650\n",
      "4   Warehouse 2          1900\n",
      "Given the above results\n",
      "Please track all invoices by location and create a bar chart in excel where x axis is outlet or warehouse name and y axis is sales amount\n"
     ]
    }
   ],
   "source": [
    "print(messages[-1]['content'])"
   ]
  },
  {
   "cell_type": "code",
   "execution_count": 47,
   "id": "372d70b1-2caf-4ec4-89e9-b9cf24ff511c",
   "metadata": {
    "scrolled": true
   },
   "outputs": [
    {
     "name": "stdout",
     "output_type": "stream",
     "text": [
      "Certainly! Given the data you provided, you can create a bar chart using `matplotlib`. Below is a Python function that takes in the data, creates a bar chart, and displays it. Note that since you specified not to use `xlsxwriter` and requested to use `matplotlib`, this solution will display the chart using `matplotlib` directly. \n",
      "\n",
      "First, ensure you have `matplotlib` installed. If not, you can install it using pip:\n",
      "\n",
      "```bash\n",
      "pip install matplotlib\n",
      "```\n",
      "\n",
      "Now, here is the function:\n",
      "\n",
      "```python\n",
      "import matplotlib.pyplot as plt\n",
      "import pandas as pd\n",
      "\n",
      "def create_bar_chart(data):\n",
      "    # Convert the data to a pandas DataFrame\n",
      "    df = pd.DataFrame(data, columns=['location_name', 'sales_amount'])\n",
      "    \n",
      "    # Set the figure size\n",
      "    plt.figure(figsize=(10, 6))\n",
      "    \n",
      "    # Create a bar chart\n",
      "    plt.bar(df['location_name'], df['sales_amount'], color='skyblue')\n",
      "    \n",
      "    # Add title and labels\n",
      "    plt.title('Sales Amount by Location')\n",
      "    plt.xlabel('Location Name')\n",
      "    plt.ylabel('Sales Amount')\n",
      "    \n",
      "    # Rotate x-axis labels for better visibility\n",
      "    plt.xticks(rotation=45, ha='right')\n",
      "    \n",
      "    # Display the chart\n",
      "    plt.tight_layout()\n",
      "    plt.show()\n",
      "\n",
      "# Sample data\n",
      "data = [\n",
      "    ['Outlet 1', 400],\n",
      "    ['Outlet 2', 1550],\n",
      "    ['Outlet 3', 1800],\n",
      "    ['Warehouse 1', 650],\n",
      "    ['Warehouse 2', 1900]\n",
      "]\n",
      "\n",
      "# Call the function with the sample data\n",
      "create_bar_chart(data)\n",
      "```\n",
      "\n",
      "This function will create a bar chart with the `location_name` on the x-axis and `sales_amount` on the y-axis. It will also include a title and rotate the x-axis labels for better readability. Finally, it will display the chart using `plt.show()`.\n",
      "\n",
      "If you still need to export this chart to an Excel file, you can use `pandas` to save the DataFrame to Excel and use a plotting library like `openpyxl` to add the chart within the Excel file. However, since you specifically requested to use `matplotlib`, the above function fulfills your request for creating and displaying the chart.\n"
     ]
    }
   ],
   "source": [
    "# Get code from Groq\n",
    "response = client.chat.completions.create(\n",
    "    model = \"qwen-2.5-coder-32b\",\n",
    "    messages = messages\n",
    ")\n",
    "\n",
    "# Extract and run the code\n",
    "code = response.choices[0].message.content\n",
    "print(code)"
   ]
  },
  {
   "cell_type": "code",
   "execution_count": 48,
   "id": "bb300bf3-eb32-43de-9a12-1dfcb418f439",
   "metadata": {
    "scrolled": true
   },
   "outputs": [
    {
     "name": "stdout",
     "output_type": "stream",
     "text": [
      "\n",
      "import matplotlib.pyplot as plt\n",
      "import pandas as pd\n",
      "\n",
      "def create_bar_chart(data):\n",
      "    # Convert the data to a pandas DataFrame\n",
      "    df = pd.DataFrame(data, columns=['location_name', 'sales_amount'])\n",
      "    \n",
      "    # Set the figure size\n",
      "    plt.figure(figsize=(10, 6))\n",
      "    \n",
      "    # Create a bar chart\n",
      "    plt.bar(df['location_name'], df['sales_amount'], color='skyblue')\n",
      "    \n",
      "    # Add title and labels\n",
      "    plt.title('Sales Amount by Location')\n",
      "    plt.xlabel('Location Name')\n",
      "    plt.ylabel('Sales Amount')\n",
      "    \n",
      "    # Rotate x-axis labels for better visibility\n",
      "    plt.xticks(rotation=45, ha='right')\n",
      "    \n",
      "    # Display the chart\n",
      "    plt.tight_layout()\n",
      "    plt.show()\n",
      "\n",
      "# Sample data\n",
      "data = [\n",
      "    ['Outlet 1', 400],\n",
      "    ['Outlet 2', 1550],\n",
      "    ['Outlet 3', 1800],\n",
      "    ['Warehouse 1', 650],\n",
      "    ['Warehouse 2', 1900]\n",
      "]\n",
      "\n",
      "# Call the function with the sample data\n",
      "create_bar_chart(data)\n",
      "\n"
     ]
    }
   ],
   "source": [
    "if \"```python\" in code:\n",
    "    code = code.split(\"```python\")[1].split(\"```\")[0]\n",
    "print(code)"
   ]
  },
  {
   "cell_type": "markdown",
   "id": "603e9d69-fd51-43c9-ae4b-c2faf7801ce9",
   "metadata": {},
   "source": [
    "### e2b - Eecute visualisation code"
   ]
  },
  {
   "cell_type": "raw",
   "id": "595e6d7b-8f49-4e79-9abc-a5961d5c18ff",
   "metadata": {},
   "source": [
    "sbx = Sandbox(\n",
    "    api_key = os.getenv('E2B_API_KEY'),\n",
    "    request_timeout=3_600,\n",
    ")"
   ]
  },
  {
   "cell_type": "code",
   "execution_count": 49,
   "id": "a55d0c52-8cab-4fe1-8abc-c84f5e2b7af2",
   "metadata": {},
   "outputs": [
    {
     "name": "stdout",
     "output_type": "stream",
     "text": [
      "\n",
      "Executing code in sandbox...\n",
      "Execution(Results: [Result(<Figure size 1000x600 with 1 Axes>)], Logs: Logs(stdout: [], stderr: []), Error: None)\n"
     ]
    }
   ],
   "source": [
    "print(\"\\nExecuting code in sandbox...\")\n",
    "execution = sbx.run_code(code)\n",
    "\n",
    "pprint(execution)\n",
    "\n",
    "if len(execution.logs.stdout):\n",
    "    print(execution.logs.stdout[0])\n",
    "    \n",
    "if len(execution.results):\n",
    "    execution.results[0]"
   ]
  },
  {
   "cell_type": "code",
   "execution_count": 50,
   "id": "760c7468-4c3e-4353-8759-c464263eaab4",
   "metadata": {},
   "outputs": [
    {
     "data": {
      "image/png": "[encoded data removed]",
      "text/plain": [
       "Result(<Figure size 1000x600 with 1 Axes>)"
      ]
     },
     "execution_count": 50,
     "metadata": {},
     "output_type": "execute_result"
    }
   ],
   "source": [
    "execution.results[0]"
   ]
  },
  {
   "cell_type": "markdown",
   "id": "e221151d-1e2c-4744-adec-fb355de2a9b2",
   "metadata": {},
   "source": [
    "# Demo"
   ]
  },
  {
   "cell_type": "markdown",
   "id": "3b05ad21-bb6f-4fdc-98e7-4317f5be6a04",
   "metadata": {},
   "source": [
    "## Few Shot Prep"
   ]
  },
  {
   "cell_type": "code",
   "execution_count": 15,
   "id": "afee3391-72d7-438b-97cf-52d61adf582f",
   "metadata": {
    "collapsed": true,
    "jupyter": {
     "outputs_hidden": true
    }
   },
   "outputs": [
    {
     "name": "stdout",
     "output_type": "stream",
     "text": [
      "I want to find out how D0001 and T0001 perform across outlets 1 to 2. Please output the results in a table where column headers are outlet names and row headers are product names\n"
     ]
    }
   ],
   "source": [
    "user_query_v1 = \"I want to find out how D0001 and T0001 perform across outlets 1 to 2. Please output the results in a table where column headers are outlet names and row headers are product names\"\n",
    "print(user_query_v1)"
   ]
  },
  {
   "cell_type": "code",
   "execution_count": 16,
   "id": "70f6f8c1-3486-4354-9356-efcb6676dff4",
   "metadata": {
    "collapsed": true,
    "jupyter": {
     "outputs_hidden": true
    },
    "scrolled": true
   },
   "outputs": [
    {
     "name": "stdout",
     "output_type": "stream",
     "text": [
      "\n",
      "SELECT \n",
      "    p.product_code,\n",
      "    SUM(CASE WHEN o.name = \"Outlet 1\" THEN ii.line_total ELSE 0 END) AS \"Outlet 1\" ,\n",
      "    SUM(CASE WHEN o.name = \"Outlet 2\" THEN ii.line_total ELSE 0 END) AS \"Outlet 2\"\n",
      "FROM datachat_outlet o\n",
      "    JOIN datachat_invoice i ON i.origin_address_id = o.address_id\n",
      "        JOIN datachat_invoiceitem ii ON ii.invoice_id = i.invoice_id\n",
      "            JOIN datachat_product p ON p.id = ii.product_id\n",
      "WHERE p.product_code IN ('D0001', 'T0001')\n",
      "GROUP BY p.product_code;\n",
      "\n"
     ]
    }
   ],
   "source": [
    "expected_response_v1 = \"\"\"\n",
    "SELECT \n",
    "    p.product_code,\n",
    "    SUM(CASE WHEN o.name = \"Outlet 1\" THEN ii.line_total ELSE 0 END) AS \"Outlet 1\" ,\n",
    "    SUM(CASE WHEN o.name = \"Outlet 2\" THEN ii.line_total ELSE 0 END) AS \"Outlet 2\"\n",
    "FROM datachat_outlet o\n",
    "    JOIN datachat_invoice i ON i.origin_address_id = o.address_id\n",
    "        JOIN datachat_invoiceitem ii ON ii.invoice_id = i.invoice_id\n",
    "            JOIN datachat_product p ON p.id = ii.product_id\n",
    "WHERE p.product_code IN ('D0001', 'T0001')\n",
    "GROUP BY p.product_code;\n",
    "\"\"\"\n",
    "print(expected_response_v1)"
   ]
  },
  {
   "cell_type": "code",
   "execution_count": 22,
   "id": "e848aa4e-2f41-47bf-b06a-11c0ae4101e7",
   "metadata": {},
   "outputs": [
    {
     "name": "stdout",
     "output_type": "stream",
     "text": [
      "I want to find out what percentage of my total sales come from outlet sales\n"
     ]
    }
   ],
   "source": [
    "user_query_v2 = \"I want to find out what percentage of my total sales come from outlet sales\"\n",
    "print(user_query_v2)"
   ]
  },
  {
   "cell_type": "code",
   "execution_count": 20,
   "id": "5dca9847-0fb8-46e7-b733-dab45b7b19b7",
   "metadata": {
    "collapsed": true,
    "jupyter": {
     "outputs_hidden": true
    }
   },
   "outputs": [
    {
     "name": "stdout",
     "output_type": "stream",
     "text": [
      "\n",
      "SELECT \n",
      "  (SUM(i.total) * 100.0 / (SELECT SUM(total) FROM datachat_invoice)) AS outlet_sales_percentage\n",
      "FROM datachat_invoice i\n",
      "JOIN datachat_outlet w \n",
      "    ON i.origin_address_id = w.address_id\n",
      "WHERE i.origin_address_type = 1;\n",
      "\n"
     ]
    }
   ],
   "source": [
    "expected_response_v2 = \"\"\"\n",
    "SELECT \n",
    "  (SUM(i.total) * 100.0 / (SELECT SUM(total) FROM datachat_invoice)) AS outlet_sales_percentage\n",
    "FROM datachat_invoice i\n",
    "JOIN datachat_outlet w \n",
    "    ON i.origin_address_id = w.address_id\n",
    "WHERE i.origin_address_type = 1;\n",
    "\"\"\"\n",
    "print(expected_response_v2)"
   ]
  },
  {
   "cell_type": "code",
   "execution_count": 21,
   "id": "08fbbe7b-e1dc-4c45-875f-c9335893f5a2",
   "metadata": {
    "collapsed": true,
    "jupyter": {
     "outputs_hidden": true
    }
   },
   "outputs": [
    {
     "name": "stdout",
     "output_type": "stream",
     "text": [
      "['I want to find out how D0001 and T0001 perform across outlets 1 to 2. Please '\n",
      " 'output the results in a table where column headers are outlet names and row '\n",
      " 'headers are product names',\n",
      " '\\n'\n",
      " 'SELECT \\n'\n",
      " '    p.product_code,\\n'\n",
      " '    SUM(CASE WHEN o.name = \"Outlet 1\" THEN ii.line_total ELSE 0 END) AS '\n",
      " '\"Outlet 1\" ,\\n'\n",
      " '    SUM(CASE WHEN o.name = \"Outlet 2\" THEN ii.line_total ELSE 0 END) AS '\n",
      " '\"Outlet 2\"\\n'\n",
      " 'FROM datachat_outlet o\\n'\n",
      " '    JOIN datachat_invoice i ON i.origin_address_id = o.address_id\\n'\n",
      " '        JOIN datachat_invoiceitem ii ON ii.invoice_id = i.invoice_id\\n'\n",
      " '            JOIN datachat_product p ON p.id = ii.product_id\\n'\n",
      " \"WHERE p.product_code IN ('D0001', 'T0001')\\n\"\n",
      " 'GROUP BY p.product_code;\\n',\n",
      " 'I want to find out what percentage of my total sales come from outlet sales',\n",
      " '\\n'\n",
      " 'SELECT \\n'\n",
      " '  (SUM(i.total) * 100.0 / (SELECT SUM(total) FROM datachat_invoice)) AS '\n",
      " 'outlet_sales_percentage\\n'\n",
      " 'FROM datachat_invoice i\\n'\n",
      " 'JOIN datachat_outlet w \\n'\n",
      " '    ON i.origin_address_id = w.address_id\\n'\n",
      " 'WHERE i.origin_address_type = 1;\\n']\n"
     ]
    }
   ],
   "source": [
    "fewshot_examples_lst = [\n",
    "    user_query_v1, expected_response_v1,\n",
    "    user_query_v2, expected_response_v2,\n",
    "]\n",
    "pprint(fewshot_examples_lst)"
   ]
  },
  {
   "cell_type": "code",
   "execution_count": null,
   "id": "19f16763-46cf-4c3e-a5c0-ff2634d77896",
   "metadata": {},
   "outputs": [],
   "source": []
  },
  {
   "cell_type": "code",
   "execution_count": null,
   "id": "b68953b6-3b1c-4175-bda5-2e8949561964",
   "metadata": {},
   "outputs": [],
   "source": []
  },
  {
   "cell_type": "code",
   "execution_count": null,
   "id": "0e8ce1ae-9435-43c3-816b-2aa7c5a0f526",
   "metadata": {},
   "outputs": [],
   "source": []
  },
  {
   "cell_type": "code",
   "execution_count": null,
   "id": "907ee274-9207-4f7a-bc70-7fccf9ccb20b",
   "metadata": {},
   "outputs": [],
   "source": []
  },
  {
   "cell_type": "code",
   "execution_count": null,
   "id": "073a6d46-3fd2-4f1a-bd71-b1af23d0ea89",
   "metadata": {},
   "outputs": [],
   "source": []
  },
  {
   "cell_type": "code",
   "execution_count": null,
   "id": "ca5b5fd1-906a-4f5b-b4da-5bf4b3392834",
   "metadata": {},
   "outputs": [],
   "source": []
  },
  {
   "cell_type": "code",
   "execution_count": null,
   "id": "4b0beecc-5fbd-49d4-9172-6695174c4bab",
   "metadata": {},
   "outputs": [],
   "source": []
  },
  {
   "cell_type": "code",
   "execution_count": null,
   "id": "8d9c7978-49e5-4fe6-85a4-7c24948d8f67",
   "metadata": {},
   "outputs": [],
   "source": []
  }
 ],
 "metadata": {
  "kernelspec": {
   "display_name": "Python 3 (ipykernel)",
   "language": "python",
   "name": "python3"
  },
  "language_info": {
   "codemirror_mode": {
    "name": "ipython",
    "version": 3
   },
   "file_extension": ".py",
   "mimetype": "text/x-python",
   "name": "python",
   "nbconvert_exporter": "python",
   "pygments_lexer": "ipython3",
   "version": "3.13.2"
  }
 },
 "nbformat": 4,
 "nbformat_minor": 5
}
