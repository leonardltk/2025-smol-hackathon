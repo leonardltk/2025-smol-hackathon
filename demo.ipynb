{
 "cells": [
  {
   "cell_type": "markdown",
   "id": "5e7d7782-73e7-428f-af2f-8ca0feb5d73d",
   "metadata": {
    "jp-MarkdownHeadingCollapsed": true
   },
   "source": [
    "# Imports"
   ]
  },
  {
   "cell_type": "code",
   "execution_count": 1,
   "id": "4ff87a0c-a7d0-4f38-b3f3-994fb907209b",
   "metadata": {},
   "outputs": [],
   "source": [
    "import os\n",
    "import json\n",
    "from pprint import pprint\n",
    "\n",
    "import pandas as pd\n",
    "from groq import Groq\n",
    "from jigsawstack import JigsawStack\n",
    "from sqlalchemy import create_engine\n",
    "from e2b_code_interpreter import Sandbox\n",
    "from dotenv import load_dotenv, find_dotenv"
   ]
  },
  {
   "cell_type": "code",
   "execution_count": 2,
   "id": "c7a6396b-1ad4-49ec-9d62-66902683ca7d",
   "metadata": {},
   "outputs": [],
   "source": [
    "load_dotenv(find_dotenv())\n",
    "assert not os.getenv(\"JIGSAWSTACK_API\") is None\n",
    "assert not os.getenv(\"GROQ_API_KEY\") is None\n",
    "assert not os.getenv(\"E2B_API_KEY\") is None"
   ]
  },
  {
   "cell_type": "code",
   "execution_count": 3,
   "id": "dd77ecec-307c-43cc-a810-e9f075a3068d",
   "metadata": {
    "jupyter": {
     "source_hidden": true
    }
   },
   "outputs": [],
   "source": [
    "def jigsaw_query(prompt, sql_schema, verbose=False):\n",
    "    if verbose:\n",
    "        print(sql_schema)\n",
    "    params = {\n",
    "        \"prompt\": prompt,\n",
    "        \"sql_schema\": sql_schema,\n",
    "        'database': 'sqlite',\n",
    "    }\n",
    "    result = jigsawstack.text_to_sql(params)\n",
    "    \n",
    "    sql_query = result['sql']\n",
    "    return sql_query"
   ]
  },
  {
   "cell_type": "markdown",
   "id": "0c8bbb39-2cfd-499f-88c3-52644687f7d6",
   "metadata": {},
   "source": [
    "# Setup"
   ]
  },
  {
   "cell_type": "markdown",
   "id": "71ee90eb-d516-4136-816f-df718ba29175",
   "metadata": {},
   "source": [
    "## APIs"
   ]
  },
  {
   "cell_type": "code",
   "execution_count": 4,
   "id": "552fade0-0728-46d6-b520-9452864b228d",
   "metadata": {},
   "outputs": [],
   "source": [
    "jigsawstack = JigsawStack(\n",
    "    api_key = os.getenv(\"JIGSAWSTACK_API\")\n",
    ")"
   ]
  },
  {
   "cell_type": "code",
   "execution_count": 5,
   "id": "deb254a9-5124-4dd3-a51a-1062c5355355",
   "metadata": {},
   "outputs": [],
   "source": [
    "client = Groq(\n",
    "    api_key = os.getenv(\"GROQ_API_KEY\")\n",
    ")"
   ]
  },
  {
   "cell_type": "code",
   "execution_count": 6,
   "id": "8ebafdd2-ffa3-409d-82b9-64ad29f6add9",
   "metadata": {},
   "outputs": [],
   "source": [
    "# Create sandbox instance (by default, sandbox instances stay alive for 5 mins)\n",
    "sbx = Sandbox(\n",
    "    api_key = os.getenv('E2B_API_KEY'),\n",
    "    request_timeout=3_600,\n",
    ")"
   ]
  },
  {
   "cell_type": "markdown",
   "id": "25286c66-337d-4347-96d7-f6b867997219",
   "metadata": {},
   "source": [
    "## data"
   ]
  },
  {
   "cell_type": "code",
   "execution_count": 7,
   "id": "a57c92b0-2c3a-4f1b-bd36-e3ff628192d5",
   "metadata": {
    "scrolled": true
   },
   "outputs": [],
   "source": [
    "product_table_df = pd.read_csv('data/tables/Product Table.csv')\n",
    "invoice_table_df = pd.read_csv('data/tables/Invoice Table.csv')\n",
    "invoice_item_df = pd.read_csv('data/tables/Invoice Item.csv')\n",
    "outlet_df = pd.read_csv('data/tables/Outlet Table.csv')\n",
    "warehouse_df = pd.read_csv('data/tables/Warehouse Table.csv')\n",
    "address_df = pd.read_csv('data/tables/Address Table.csv')"
   ]
  },
  {
   "cell_type": "markdown",
   "id": "0b663d4a-3c19-412b-b93f-d46d08b56c82",
   "metadata": {
    "jp-MarkdownHeadingCollapsed": true
   },
   "source": [
    "## SQLlite"
   ]
  },
  {
   "cell_type": "code",
   "execution_count": 8,
   "id": "d7165029-b8ce-4c7d-b69a-d3cf3fdcdf95",
   "metadata": {},
   "outputs": [
    {
     "name": "stdout",
     "output_type": "stream",
     "text": [
      "removed 'my_database.db'\n"
     ]
    }
   ],
   "source": [
    "!rm -v my_database.db"
   ]
  },
  {
   "cell_type": "code",
   "execution_count": 9,
   "id": "51bdcf87-b6c7-4f19-8552-df7a8e26f6ba",
   "metadata": {},
   "outputs": [],
   "source": [
    "engine = create_engine('sqlite:///my_database.db')"
   ]
  },
  {
   "cell_type": "code",
   "execution_count": 10,
   "id": "ddd81b2c-330e-4d18-a5da-9135a4e77367",
   "metadata": {},
   "outputs": [
    {
     "data": {
      "text/plain": [
       "5"
      ]
     },
     "execution_count": 10,
     "metadata": {},
     "output_type": "execute_result"
    }
   ],
   "source": [
    "product_table_df.to_sql('datachat_product', engine, index=False, if_exists='replace')\n",
    "invoice_table_df.to_sql('datachat_invoice', engine, index=False, if_exists='replace')\n",
    "invoice_item_df.to_sql('datachat_invoiceitem', engine, index=False, if_exists='replace')\n",
    "outlet_df.to_sql('datachat_outlet', engine, index=False, if_exists='replace')\n",
    "warehouse_df.to_sql('datachat_warehouse', engine, index=False, if_exists='replace')\n",
    "address_df.to_sql('datachat_address', engine, index=False, if_exists='replace')"
   ]
  },
  {
   "cell_type": "code",
   "execution_count": 11,
   "id": "b5ee59e8-2350-4c45-bbd7-224695aefa8f",
   "metadata": {},
   "outputs": [],
   "source": [
    "product_table_schema_sql = pd.io.sql.get_schema(product_table_df, 'datachat_product', con=engine)\n",
    "invoice_table_schema_sql = pd.io.sql.get_schema(invoice_table_df, 'datachat_invoice', con=engine)\n",
    "invoice_item_schema_sql = pd.io.sql.get_schema(invoice_item_df, 'datachat_invoiceitem', con=engine)\n",
    "outlet_schema_sql = pd.io.sql.get_schema(outlet_df, 'datachat_outlet', con=engine)\n",
    "warehouse_schema_sql = pd.io.sql.get_schema(warehouse_df, 'datachat_warehouse', con=engine)\n",
    "address_schema_sql = pd.io.sql.get_schema(address_df, 'datachat_address', con=engine)"
   ]
  },
  {
   "cell_type": "code",
   "execution_count": 12,
   "id": "61bed988-7311-4b94-ad29-9a5783e33334",
   "metadata": {},
   "outputs": [],
   "source": [
    "# concatenate them"
   ]
  },
  {
   "cell_type": "code",
   "execution_count": 13,
   "id": "c665c0ac-50a0-4b5d-9ed2-2a9aa9b7bbbf",
   "metadata": {
    "scrolled": true
   },
   "outputs": [
    {
     "name": "stdout",
     "output_type": "stream",
     "text": [
      "-- DataChat Database Schema\n",
      "\n",
      "BEGIN;\n",
      "\n",
      "-- Table: datachat_product\n",
      "CREATE TABLE datachat_product (\n",
      "\tid BIGINT, \n",
      "\tproduct_code TEXT, \n",
      "\tname TEXT\n",
      ");\n",
      "\n",
      "-- Table: datachat_invoice\n",
      "CREATE TABLE datachat_invoice (\n",
      "\tinvoice_id BIGINT, \n",
      "\ttimestamp TEXT, \n",
      "\tsubtotal FLOAT, \n",
      "\tgst FLOAT, \n",
      "\ttotal BIGINT, \n",
      "\torigin_address_id BIGINT, \n",
      "\torigin_address_type BIGINT\n",
      ");\n",
      "\n",
      "-- Table: datachat_invoiceitem\n",
      "CREATE TABLE datachat_invoiceitem (\n",
      "\tid BIGINT, \n",
      "\tinvoice_id BIGINT, \n",
      "\tproduct_id BIGINT, \n",
      "\t\"quantity \" BIGINT, \n",
      "\tprice BIGINT, \n",
      "\tline_total BIGINT\n",
      ");\n",
      "\n",
      "-- Table: datachat_outlet\n",
      "CREATE TABLE datachat_outlet (\n",
      "\tid BIGINT, \n",
      "\tname TEXT, \n",
      "\taddress_id BIGINT\n",
      ");\n",
      "\n",
      "-- Table: datachat_warehouse\n",
      "CREATE TABLE datachat_warehouse (\n",
      "\tid BIGINT, \n",
      "\tname TEXT, \n",
      "\taddress_id BIGINT\n",
      ");\n",
      "\n",
      "-- Table: datachat_address\n",
      "CREATE TABLE datachat_address (\n",
      "\tid BIGINT, \n",
      "\tstreet TEXT, \n",
      "\t\"postal code\" BIGINT\n",
      ");\n",
      "\n",
      "COMMIT;\n",
      "\n"
     ]
    }
   ],
   "source": [
    "# Create a dictionary to map table names to their schemas\n",
    "schemas = {\n",
    "    'datachat_product': product_table_schema_sql,\n",
    "    'datachat_invoice': invoice_table_schema_sql,\n",
    "    'datachat_invoiceitem': invoice_item_schema_sql,\n",
    "    'datachat_outlet': outlet_schema_sql,\n",
    "    'datachat_warehouse': warehouse_schema_sql,\n",
    "    'datachat_address': address_schema_sql,\n",
    "}\n",
    "\n",
    "# Now, build a valid SQL script:\n",
    "sql_script = \"-- DataChat Database Schema\\n\\nBEGIN;\\n\\n\"\n",
    "\n",
    "for table, schema in schemas.items():\n",
    "    # Optionally remove any extraneous whitespace and ensure no duplicate semicolons:\n",
    "    cleaned_schema = schema.strip().rstrip(\";\")\n",
    "    sql_script += f\"-- Table: {table}\\n{cleaned_schema};\\n\\n\"\n",
    "\n",
    "sql_script += \"COMMIT;\\n\"\n",
    "\n",
    "# You can then print, write to a file, or execute this script:\n",
    "print(sql_script)"
   ]
  },
  {
   "cell_type": "code",
   "execution_count": 14,
   "id": "c5eeaa4c-7d46-4e2d-bca9-d9edfc550bda",
   "metadata": {},
   "outputs": [],
   "source": [
    "# To-Do add foreign keys to link them"
   ]
  },
  {
   "cell_type": "markdown",
   "id": "0449ed70-b1c9-4cb2-8633-f9f916671c3a",
   "metadata": {
    "jp-MarkdownHeadingCollapsed": true
   },
   "source": [
    "# function - determine whether to get visualisation"
   ]
  },
  {
   "cell_type": "code",
   "execution_count": 15,
   "id": "bf76a7d6-c188-4630-86e8-9e098548dd4e",
   "metadata": {},
   "outputs": [],
   "source": [
    "messages_visualisation = [\n",
    "    {\"role\": \"system\", \"content\": \"Validate whether the user requires visualisation in the task. If only table output is required, reply false. If matplotlib is required to show some plots, reply true.\"},\n",
    "    {\"role\": \"user\", \"content\": \"I want to find out how D0001 and T0001 perform across outlets 1 to 2. Please output the results in a table where column headers are outlet names and row headers are product names\"},\n",
    "    {\"role\": \"assistant\", \"content\": json.dumps({ \"require matplotlib\" : False })},\n",
    "    {\"role\": \"user\", \"content\": \"Please track all invoices by location and create a bar chart in excel where x axis is outlet or warehouse name and y axis is sales amount\"},\n",
    "    {\"role\": \"assistant\", \"content\": json.dumps({ \"require matplotlib\" : True })},\n",
    "    {\"role\": \"user\", \"content\": \"I want to find out what percentage of my total sales come from outlet sales\"},\n",
    "    {\"role\": \"assistant\", \"content\": json.dumps({ \"require matplotlib\" : False })},\n",
    "    {\"role\": \"user\", \"content\": None},\n",
    "]"
   ]
  },
  {
   "cell_type": "code",
   "execution_count": 16,
   "id": "c807e5ea-72d1-4512-902a-eed2bde7cc4e",
   "metadata": {
    "jupyter": {
     "source_hidden": true
    }
   },
   "outputs": [],
   "source": [
    "def perform_visualisation(result_df, user_query):\n",
    "    python_template = \"\"\"\n",
    "    ```python\n",
    "    def function_v1(insert arguments here):\n",
    "        # Insert code here\n",
    "    ```\n",
    "    \"\"\"\n",
    "    SYSTEM_PROMPT = f\"\"\"\n",
    "    You are a Python data scientist. \n",
    "    Use this template:\n",
    "    \n",
    "    {python_template}\n",
    "    \n",
    "    Do not use xlsxwriter\n",
    "    Use matplotlib\n",
    "    \"\"\".strip()\n",
    "    \n",
    "    ### groq(qwen-2.5-coder-32b)\n",
    "    messages = [\n",
    "        {\"role\": \"system\", \"content\": SYSTEM_PROMPT},\n",
    "        {\"role\": \"user\", \"content\": (\n",
    "            f\"{result_df}\\n\"\n",
    "            \"Given the above results\\n\"\n",
    "            f\"{user_query}\"\n",
    "        )},\n",
    "    ]\n",
    "    print(messages[-1]['content'])\n",
    "    \n",
    "    # Get code from Groq\n",
    "    response = client.chat.completions.create(\n",
    "        model = \"qwen-2.5-coder-32b\",\n",
    "        messages = messages\n",
    "    )\n",
    "    # Extract and run the code\n",
    "    code = response.choices[0].message.content\n",
    "    if \"```python\" in code:\n",
    "        code = code.split(\"```python\")[1].split(\"```\")[0]\n",
    "    print(code)\n",
    "    \n",
    "    ### e2b - Eecute visualisation code\n",
    "    sbx = Sandbox(\n",
    "        api_key = os.getenv('E2B_API_KEY'),\n",
    "        request_timeout=3_600,\n",
    "    )\n",
    "    \n",
    "    print(\"\\nExecuting code in sandbox...\")\n",
    "    execution = sbx.run_code(code)\n",
    "    pprint(execution)\n",
    "    \n",
    "    if len(execution.logs.stdout):\n",
    "        print(execution.logs.stdout[0])\n",
    "        \n",
    "    if len(execution.results):\n",
    "        execution.results[0]\n",
    "    \n",
    "    return execution.results[0]"
   ]
  },
  {
   "cell_type": "markdown",
   "id": "cd1db59c-f061-48a7-9bb2-4b7fa2cd5b42",
   "metadata": {},
   "source": [
    "# Inference - Data Analytics"
   ]
  },
  {
   "cell_type": "markdown",
   "id": "3b05ad21-bb6f-4fdc-98e7-4317f5be6a04",
   "metadata": {
    "jp-MarkdownHeadingCollapsed": true
   },
   "source": [
    "## Few Shot Prep"
   ]
  },
  {
   "cell_type": "code",
   "execution_count": 18,
   "id": "afee3391-72d7-438b-97cf-52d61adf582f",
   "metadata": {},
   "outputs": [
    {
     "name": "stdout",
     "output_type": "stream",
     "text": [
      "I want to find out how D0001 and T0001 perform across outlets 1 to 2. Please output the results in a table where column headers are outlet names and row headers are product names\n"
     ]
    }
   ],
   "source": [
    "user_query_v1 = \"I want to find out how D0001 and T0001 perform across outlets 1 to 2. Please output the results in a table where column headers are outlet names and row headers are product names\"\n",
    "print(user_query_v1)"
   ]
  },
  {
   "cell_type": "code",
   "execution_count": 19,
   "id": "70f6f8c1-3486-4354-9356-efcb6676dff4",
   "metadata": {
    "scrolled": true
   },
   "outputs": [
    {
     "name": "stdout",
     "output_type": "stream",
     "text": [
      "\n",
      "SELECT \n",
      "    p.product_code,\n",
      "    SUM(CASE WHEN o.name = \"Outlet 1\" THEN ii.line_total ELSE 0 END) AS \"Outlet 1\" ,\n",
      "    SUM(CASE WHEN o.name = \"Outlet 2\" THEN ii.line_total ELSE 0 END) AS \"Outlet 2\"\n",
      "FROM datachat_outlet o\n",
      "    JOIN datachat_invoice i ON i.origin_address_id = o.address_id\n",
      "        JOIN datachat_invoiceitem ii ON ii.invoice_id = i.invoice_id\n",
      "            JOIN datachat_product p ON p.id = ii.product_id\n",
      "WHERE p.product_code IN ('D0001', 'T0001')\n",
      "GROUP BY p.product_code;\n",
      "\n"
     ]
    }
   ],
   "source": [
    "expected_response_v1 = \"\"\"\n",
    "SELECT \n",
    "    p.product_code,\n",
    "    SUM(CASE WHEN o.name = \"Outlet 1\" THEN ii.line_total ELSE 0 END) AS \"Outlet 1\" ,\n",
    "    SUM(CASE WHEN o.name = \"Outlet 2\" THEN ii.line_total ELSE 0 END) AS \"Outlet 2\"\n",
    "FROM datachat_outlet o\n",
    "    JOIN datachat_invoice i ON i.origin_address_id = o.address_id\n",
    "        JOIN datachat_invoiceitem ii ON ii.invoice_id = i.invoice_id\n",
    "            JOIN datachat_product p ON p.id = ii.product_id\n",
    "WHERE p.product_code IN ('D0001', 'T0001')\n",
    "GROUP BY p.product_code;\n",
    "\"\"\"\n",
    "print(expected_response_v1)"
   ]
  },
  {
   "cell_type": "code",
   "execution_count": 20,
   "id": "e848aa4e-2f41-47bf-b06a-11c0ae4101e7",
   "metadata": {},
   "outputs": [
    {
     "name": "stdout",
     "output_type": "stream",
     "text": [
      "I want to find out what percentage of my total sales come from outlet sales\n"
     ]
    }
   ],
   "source": [
    "user_query_v2 = \"I want to find out what percentage of my total sales come from outlet sales\"\n",
    "print(user_query_v2)"
   ]
  },
  {
   "cell_type": "code",
   "execution_count": 21,
   "id": "5dca9847-0fb8-46e7-b733-dab45b7b19b7",
   "metadata": {},
   "outputs": [
    {
     "name": "stdout",
     "output_type": "stream",
     "text": [
      "\n",
      "SELECT \n",
      "  (SUM(i.total) * 100.0 / (SELECT SUM(total) FROM datachat_invoice)) AS outlet_sales_percentage\n",
      "FROM datachat_invoice i\n",
      "JOIN datachat_outlet w \n",
      "    ON i.origin_address_id = w.address_id\n",
      "WHERE i.origin_address_type = 1;\n",
      "\n"
     ]
    }
   ],
   "source": [
    "expected_response_v2 = \"\"\"\n",
    "SELECT \n",
    "  (SUM(i.total) * 100.0 / (SELECT SUM(total) FROM datachat_invoice)) AS outlet_sales_percentage\n",
    "FROM datachat_invoice i\n",
    "JOIN datachat_outlet w \n",
    "    ON i.origin_address_id = w.address_id\n",
    "WHERE i.origin_address_type = 1;\n",
    "\"\"\"\n",
    "print(expected_response_v2)"
   ]
  },
  {
   "cell_type": "code",
   "execution_count": 22,
   "id": "08fbbe7b-e1dc-4c45-875f-c9335893f5a2",
   "metadata": {},
   "outputs": [
    {
     "name": "stdout",
     "output_type": "stream",
     "text": [
      "['I want to find out how D0001 and T0001 perform across outlets 1 to 2. Please '\n",
      " 'output the results in a table where column headers are outlet names and row '\n",
      " 'headers are product names',\n",
      " '\\n'\n",
      " 'SELECT \\n'\n",
      " '    p.product_code,\\n'\n",
      " '    SUM(CASE WHEN o.name = \"Outlet 1\" THEN ii.line_total ELSE 0 END) AS '\n",
      " '\"Outlet 1\" ,\\n'\n",
      " '    SUM(CASE WHEN o.name = \"Outlet 2\" THEN ii.line_total ELSE 0 END) AS '\n",
      " '\"Outlet 2\"\\n'\n",
      " 'FROM datachat_outlet o\\n'\n",
      " '    JOIN datachat_invoice i ON i.origin_address_id = o.address_id\\n'\n",
      " '        JOIN datachat_invoiceitem ii ON ii.invoice_id = i.invoice_id\\n'\n",
      " '            JOIN datachat_product p ON p.id = ii.product_id\\n'\n",
      " \"WHERE p.product_code IN ('D0001', 'T0001')\\n\"\n",
      " 'GROUP BY p.product_code;\\n',\n",
      " 'I want to find out what percentage of my total sales come from outlet sales',\n",
      " '\\n'\n",
      " 'SELECT \\n'\n",
      " '  (SUM(i.total) * 100.0 / (SELECT SUM(total) FROM datachat_invoice)) AS '\n",
      " 'outlet_sales_percentage\\n'\n",
      " 'FROM datachat_invoice i\\n'\n",
      " 'JOIN datachat_outlet w \\n'\n",
      " '    ON i.origin_address_id = w.address_id\\n'\n",
      " 'WHERE i.origin_address_type = 1;\\n']\n"
     ]
    }
   ],
   "source": [
    "fewshot_examples_lst = [\n",
    "    user_query_v1, expected_response_v1,\n",
    "    user_query_v2, expected_response_v2,\n",
    "]\n",
    "pprint(fewshot_examples_lst)"
   ]
  },
  {
   "cell_type": "markdown",
   "id": "6ad53748-cb9a-4a59-96be-728b156ad200",
   "metadata": {},
   "source": [
    "## Prompt 1"
   ]
  },
  {
   "cell_type": "code",
   "execution_count": 25,
   "id": "2f707dc2-ead6-4768-ae5f-db3c916dbf7a",
   "metadata": {},
   "outputs": [
    {
     "name": "stdout",
     "output_type": "stream",
     "text": [
      "I want to find out how D0001 and R0001 perform across outlets 1 to 3. Please output the results in a table where column headers are outlet names and row headers are product names\n"
     ]
    }
   ],
   "source": [
    "user_query = \"I want to find out how D0001 and R0001 perform across outlets 1 to 3. Please output the results in a table where column headers are outlet names and row headers are product names\"\n",
    "print(user_query)"
   ]
  },
  {
   "cell_type": "code",
   "execution_count": 26,
   "id": "293e9d55-1b73-4e1a-b24e-97e38687c92f",
   "metadata": {
    "jupyter": {
     "source_hidden": true
    }
   },
   "outputs": [
    {
     "data": {
      "text/html": [
       "<div>\n",
       "<style scoped>\n",
       "    .dataframe tbody tr th:only-of-type {\n",
       "        vertical-align: middle;\n",
       "    }\n",
       "\n",
       "    .dataframe tbody tr th {\n",
       "        vertical-align: top;\n",
       "    }\n",
       "\n",
       "    .dataframe thead th {\n",
       "        text-align: right;\n",
       "    }\n",
       "</style>\n",
       "<table border=\"1\" class=\"dataframe\">\n",
       "  <thead>\n",
       "    <tr style=\"text-align: right;\">\n",
       "      <th></th>\n",
       "      <th>product_code</th>\n",
       "      <th>Outlet 1</th>\n",
       "      <th>Outlet 2</th>\n",
       "      <th>Outlet 3</th>\n",
       "    </tr>\n",
       "  </thead>\n",
       "  <tbody>\n",
       "    <tr>\n",
       "      <th>0</th>\n",
       "      <td>D0001</td>\n",
       "      <td>200</td>\n",
       "      <td>400</td>\n",
       "      <td>1200</td>\n",
       "    </tr>\n",
       "    <tr>\n",
       "      <th>1</th>\n",
       "      <td>R0001</td>\n",
       "      <td>200</td>\n",
       "      <td>1000</td>\n",
       "      <td>600</td>\n",
       "    </tr>\n",
       "  </tbody>\n",
       "</table>\n",
       "</div>"
      ],
      "text/plain": [
       "  product_code  Outlet 1  Outlet 2  Outlet 3\n",
       "0        D0001       200       400      1200\n",
       "1        R0001       200      1000       600"
      ]
     },
     "execution_count": 26,
     "metadata": {},
     "output_type": "execute_result"
    }
   ],
   "source": [
    "user_query_fewshot = '\\n'.join(fewshot_examples_lst + [user_query])\n",
    "sql_query = jigsaw_query(user_query_fewshot, sql_script)\n",
    "result_df = pd.read_sql_query(sql_query, engine)\n",
    "result_df"
   ]
  },
  {
   "cell_type": "code",
   "execution_count": 27,
   "id": "ea0f791e-c4b0-4754-aa75-84d8d5a25cf6",
   "metadata": {
    "jupyter": {
     "source_hidden": true
    }
   },
   "outputs": [
    {
     "name": "stdout",
     "output_type": "stream",
     "text": [
      "{'require matplotlib': False}\n"
     ]
    }
   ],
   "source": [
    "messages_visualisation[-1]['content'] = user_query\n",
    "\n",
    "response = client.chat.completions.create(\n",
    "    model = \"qwen-2.5-coder-32b\",\n",
    "    messages = messages_visualisation\n",
    ")\n",
    "\n",
    "require_visualisation_dict = json.loads(response.choices[0].message.content)\n",
    "pprint(require_visualisation_dict)\n",
    "if require_visualisation_dict['require matplotlib']:\n",
    "    plot_fig = perform_visualisation(result_df, user_query)"
   ]
  },
  {
   "cell_type": "markdown",
   "id": "3c28e3a8-2b2b-47f8-9942-a2f4a0639093",
   "metadata": {},
   "source": [
    "## Prompt 2"
   ]
  },
  {
   "cell_type": "code",
   "execution_count": 29,
   "id": "a5edd611-f634-43c9-8c28-5796464f9995",
   "metadata": {},
   "outputs": [],
   "source": [
    "user_query = \"I want to find out what percentage of my total sales come from warehouse sales\""
   ]
  },
  {
   "cell_type": "code",
   "execution_count": 30,
   "id": "c39a0e58-3907-4872-b5c5-7c83280c9320",
   "metadata": {
    "jupyter": {
     "source_hidden": true
    }
   },
   "outputs": [
    {
     "data": {
      "text/html": [
       "<div>\n",
       "<style scoped>\n",
       "    .dataframe tbody tr th:only-of-type {\n",
       "        vertical-align: middle;\n",
       "    }\n",
       "\n",
       "    .dataframe tbody tr th {\n",
       "        vertical-align: top;\n",
       "    }\n",
       "\n",
       "    .dataframe thead th {\n",
       "        text-align: right;\n",
       "    }\n",
       "</style>\n",
       "<table border=\"1\" class=\"dataframe\">\n",
       "  <thead>\n",
       "    <tr style=\"text-align: right;\">\n",
       "      <th></th>\n",
       "      <th>warehouse_sales_percentage</th>\n",
       "    </tr>\n",
       "  </thead>\n",
       "  <tbody>\n",
       "    <tr>\n",
       "      <th>0</th>\n",
       "      <td>40.47619</td>\n",
       "    </tr>\n",
       "  </tbody>\n",
       "</table>\n",
       "</div>"
      ],
      "text/plain": [
       "   warehouse_sales_percentage\n",
       "0                    40.47619"
      ]
     },
     "execution_count": 30,
     "metadata": {},
     "output_type": "execute_result"
    }
   ],
   "source": [
    "user_query_fewshot = '\\n'.join(fewshot_examples_lst + [user_query])\n",
    "\n",
    "sql_query = jigsaw_query(user_query_fewshot, sql_script)\n",
    "\n",
    "result_df = pd.read_sql_query(sql_query, engine)\n",
    "result_df"
   ]
  },
  {
   "cell_type": "code",
   "execution_count": 31,
   "id": "375d3691-1950-4c14-a3f2-ad9375094749",
   "metadata": {
    "jupyter": {
     "source_hidden": true
    }
   },
   "outputs": [
    {
     "name": "stdout",
     "output_type": "stream",
     "text": [
      "{'require matplotlib': False}\n"
     ]
    }
   ],
   "source": [
    "messages_visualisation[-1]['content'] = user_query\n",
    "\n",
    "response = client.chat.completions.create(\n",
    "    model = \"qwen-2.5-coder-32b\",\n",
    "    messages = messages_visualisation\n",
    ")\n",
    "\n",
    "require_visualisation_dict = json.loads(response.choices[0].message.content)\n",
    "pprint(require_visualisation_dict)\n",
    "if require_visualisation_dict['require matplotlib']:\n",
    "    plot_fig = perform_visualisation(result_df, user_query)"
   ]
  },
  {
   "cell_type": "markdown",
   "id": "bd6b26d2-105c-4c73-a2ba-ccd74da1683a",
   "metadata": {},
   "source": [
    "## Prompt 3"
   ]
  },
  {
   "cell_type": "code",
   "execution_count": 33,
   "id": "ea498f1f-a144-4722-b7f9-2cebac62a464",
   "metadata": {},
   "outputs": [],
   "source": [
    "user_query = \"Please track all invoices by location and create a bar chart where x axis is outlet or warehouse name and y axis is sales amount\""
   ]
  },
  {
   "cell_type": "code",
   "execution_count": 34,
   "id": "2aad4790-853f-4332-9442-801b4e9c5c66",
   "metadata": {
    "jupyter": {
     "source_hidden": true
    }
   },
   "outputs": [
    {
     "data": {
      "text/html": [
       "<div>\n",
       "<style scoped>\n",
       "    .dataframe tbody tr th:only-of-type {\n",
       "        vertical-align: middle;\n",
       "    }\n",
       "\n",
       "    .dataframe tbody tr th {\n",
       "        vertical-align: top;\n",
       "    }\n",
       "\n",
       "    .dataframe thead th {\n",
       "        text-align: right;\n",
       "    }\n",
       "</style>\n",
       "<table border=\"1\" class=\"dataframe\">\n",
       "  <thead>\n",
       "    <tr style=\"text-align: right;\">\n",
       "      <th></th>\n",
       "      <th>location_name</th>\n",
       "      <th>sales_amount</th>\n",
       "    </tr>\n",
       "  </thead>\n",
       "  <tbody>\n",
       "    <tr>\n",
       "      <th>0</th>\n",
       "      <td>Outlet 1</td>\n",
       "      <td>400</td>\n",
       "    </tr>\n",
       "    <tr>\n",
       "      <th>1</th>\n",
       "      <td>Outlet 2</td>\n",
       "      <td>1550</td>\n",
       "    </tr>\n",
       "    <tr>\n",
       "      <th>2</th>\n",
       "      <td>Outlet 3</td>\n",
       "      <td>1800</td>\n",
       "    </tr>\n",
       "    <tr>\n",
       "      <th>3</th>\n",
       "      <td>Warehouse 1</td>\n",
       "      <td>650</td>\n",
       "    </tr>\n",
       "    <tr>\n",
       "      <th>4</th>\n",
       "      <td>Warehouse 2</td>\n",
       "      <td>1900</td>\n",
       "    </tr>\n",
       "  </tbody>\n",
       "</table>\n",
       "</div>"
      ],
      "text/plain": [
       "  location_name  sales_amount\n",
       "0      Outlet 1           400\n",
       "1      Outlet 2          1550\n",
       "2      Outlet 3          1800\n",
       "3   Warehouse 1           650\n",
       "4   Warehouse 2          1900"
      ]
     },
     "execution_count": 34,
     "metadata": {},
     "output_type": "execute_result"
    }
   ],
   "source": [
    "user_query_fewshot = '\\n'.join(fewshot_examples_lst + [user_query])\n",
    "\n",
    "sql_query = jigsaw_query(user_query_fewshot, sql_script)\n",
    "\n",
    "result_df = pd.read_sql_query(sql_query, engine)\n",
    "result_df"
   ]
  },
  {
   "cell_type": "code",
   "execution_count": 35,
   "id": "c3240d68-ce6e-46ed-9992-c40359d270fe",
   "metadata": {
    "scrolled": true
   },
   "outputs": [
    {
     "name": "stdout",
     "output_type": "stream",
     "text": [
      "{'require matplotlib': True}\n",
      "  location_name  sales_amount\n",
      "0      Outlet 1           400\n",
      "1      Outlet 2          1550\n",
      "2      Outlet 3          1800\n",
      "3   Warehouse 1           650\n",
      "4   Warehouse 2          1900\n",
      "Given the above results\n",
      "Please track all invoices by location and create a bar chart where x axis is outlet or warehouse name and y axis is sales amount\n",
      "\n",
      "import matplotlib.pyplot as plt\n",
      "import pandas as pd\n",
      "\n",
      "def plot_sales_by_location(df):\n",
      "    # Extracting the location and sales amount from the DataFrame\n",
      "    locations = df['location_name']\n",
      "    sales_amounts = df['sales_amount']\n",
      "    \n",
      "    # Creating the bar chart\n",
      "    plt.figure(figsize=(10, 6))\n",
      "    plt.bar(locations, sales_amounts, color='skyblue')\n",
      "    \n",
      "    # Adding title and labels\n",
      "    plt.title('Sales Amount by Location')\n",
      "    plt.xlabel('Location')\n",
      "    plt.ylabel('Sales Amount')\n",
      "    \n",
      "    # Rotating the x-axis labels for better visibility\n",
      "    plt.xticks(rotation=45, ha='right')\n",
      "    \n",
      "    # Display the plot\n",
      "    plt.tight_layout()\n",
      "    plt.show()\n",
      "\n",
      "# Example usage:\n",
      "data = {\n",
      "    'location_name': ['Outlet 1', 'Outlet 2', 'Outlet 3', 'Warehouse 1', 'Warehouse 2'],\n",
      "    'sales_amount': [400, 1550, 1800, 650, 1900]\n",
      "}\n",
      "\n",
      "df = pd.DataFrame(data)\n",
      "plot_sales_by_location(df)\n",
      "\n",
      "\n",
      "Executing code in sandbox...\n",
      "Execution(Results: [Result(<Figure size 1000x600 with 1 Axes>)], Logs: Logs(stdout: [], stderr: []), Error: None)\n"
     ]
    }
   ],
   "source": [
    "messages_visualisation[-1]['content'] = user_query\n",
    "\n",
    "response = client.chat.completions.create(\n",
    "    model = \"qwen-2.5-coder-32b\",\n",
    "    messages = messages_visualisation\n",
    ")\n",
    "\n",
    "require_visualisation_dict = json.loads(response.choices[0].message.content)\n",
    "pprint(require_visualisation_dict)\n",
    "if require_visualisation_dict['require matplotlib']:\n",
    "    plot_fig = perform_visualisation(result_df, user_query)"
   ]
  },
  {
   "cell_type": "code",
   "execution_count": 36,
   "id": "907ee274-9207-4f7a-bc70-7fccf9ccb20b",
   "metadata": {},
   "outputs": [
    {
     "data": {
      "image/png": "[encoded data removed]",
      "text/plain": [
       "Result(<Figure size 1000x600 with 1 Axes>)"
      ]
     },
     "execution_count": 36,
     "metadata": {},
     "output_type": "execute_result"
    }
   ],
   "source": [
    "plot_fig"
   ]
  },
  {
   "cell_type": "markdown",
   "id": "238f1bd8-303c-4296-828f-ad2cdc36dc8b",
   "metadata": {
    "jp-MarkdownHeadingCollapsed": true
   },
   "source": [
    "# Test"
   ]
  },
  {
   "cell_type": "code",
   "execution_count": 33,
   "id": "f11fdfc7-a940-48cb-8840-d026afe58b31",
   "metadata": {},
   "outputs": [],
   "source": [
    "user_query = \"\""
   ]
  },
  {
   "cell_type": "code",
   "execution_count": null,
   "id": "a9aeb150-665f-4d66-82e9-25d2176f6c0f",
   "metadata": {},
   "outputs": [],
   "source": [
    "user_query_fewshot = '\\n'.join(fewshot_examples_lst + [user_query])\n",
    "\n",
    "sql_query = jigsaw_query(user_query_fewshot, sql_script)\n",
    "\n",
    "result_df = pd.read_sql_query(sql_query, engine)\n",
    "result_df"
   ]
  },
  {
   "cell_type": "code",
   "execution_count": null,
   "id": "d7155d53-12bb-45a0-921c-a446f7224935",
   "metadata": {
    "scrolled": true
   },
   "outputs": [],
   "source": [
    "messages_visualisation[-1]['content'] = user_query\n",
    "\n",
    "response = client.chat.completions.create(\n",
    "    model = \"qwen-2.5-coder-32b\",\n",
    "    messages = messages_visualisation\n",
    ")\n",
    "\n",
    "require_visualisation_dict = json.loads(response.choices[0].message.content)\n",
    "pprint(require_visualisation_dict)\n",
    "if require_visualisation_dict['require matplotlib']:\n",
    "    plot_fig = perform_visualisation(result_df, user_query)"
   ]
  },
  {
   "cell_type": "code",
   "execution_count": null,
   "id": "8b8fbba6-4bd0-4f9f-8daf-3190192335c4",
   "metadata": {},
   "outputs": [],
   "source": [
    "plot_fig"
   ]
  },
  {
   "cell_type": "code",
   "execution_count": null,
   "id": "073a6d46-3fd2-4f1a-bd71-b1af23d0ea89",
   "metadata": {},
   "outputs": [],
   "source": []
  },
  {
   "cell_type": "code",
   "execution_count": null,
   "id": "ca5b5fd1-906a-4f5b-b4da-5bf4b3392834",
   "metadata": {},
   "outputs": [],
   "source": []
  },
  {
   "cell_type": "code",
   "execution_count": null,
   "id": "4b0beecc-5fbd-49d4-9172-6695174c4bab",
   "metadata": {},
   "outputs": [],
   "source": []
  },
  {
   "cell_type": "code",
   "execution_count": null,
   "id": "8d9c7978-49e5-4fe6-85a4-7c24948d8f67",
   "metadata": {},
   "outputs": [],
   "source": []
  }
 ],
 "metadata": {
  "kernelspec": {
   "display_name": "Python 3 (ipykernel)",
   "language": "python",
   "name": "python3"
  },
  "language_info": {
   "codemirror_mode": {
    "name": "ipython",
    "version": 3
   },
   "file_extension": ".py",
   "mimetype": "text/x-python",
   "name": "python",
   "nbconvert_exporter": "python",
   "pygments_lexer": "ipython3",
   "version": "3.13.2"
  }
 },
 "nbformat": 4,
 "nbformat_minor": 5
}
